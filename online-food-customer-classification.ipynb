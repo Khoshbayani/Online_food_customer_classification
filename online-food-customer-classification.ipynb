{
 "cells": [
  {
   "cell_type": "code",
   "execution_count": 1,
   "id": "a37bace3",
   "metadata": {
    "ExecuteTime": {
     "end_time": "2024-04-14T20:17:36.744010100Z",
     "start_time": "2024-04-14T20:17:36.333405300Z"
    },
    "execution": {
     "iopub.execute_input": "2024-04-14T20:47:35.186274Z",
     "iopub.status.busy": "2024-04-14T20:47:35.185483Z",
     "iopub.status.idle": "2024-04-14T20:47:37.505254Z",
     "shell.execute_reply": "2024-04-14T20:47:37.504034Z"
    },
    "papermill": {
     "duration": 2.348039,
     "end_time": "2024-04-14T20:47:37.508600",
     "exception": false,
     "start_time": "2024-04-14T20:47:35.160561",
     "status": "completed"
    },
    "tags": []
   },
   "outputs": [],
   "source": [
    "import random\n",
    "\n",
    "import matplotlib.pyplot as plt\n",
    "import pandas as pd\n",
    "import numpy as np\n",
    "from sklearn.preprocessing import LabelEncoder\n",
    "from sklearn.preprocessing import OneHotEncoder"
   ]
  },
  {
   "cell_type": "code",
   "execution_count": 2,
   "id": "04a51670",
   "metadata": {
    "ExecuteTime": {
     "end_time": "2024-04-14T20:17:36.948142200Z",
     "start_time": "2024-04-14T20:17:36.333405300Z"
    },
    "collapsed": false,
    "execution": {
     "iopub.execute_input": "2024-04-14T20:47:37.547290Z",
     "iopub.status.busy": "2024-04-14T20:47:37.546572Z",
     "iopub.status.idle": "2024-04-14T20:47:37.578904Z",
     "shell.execute_reply": "2024-04-14T20:47:37.576974Z"
    },
    "jupyter": {
     "outputs_hidden": false
    },
    "papermill": {
     "duration": 0.054821,
     "end_time": "2024-04-14T20:47:37.581853",
     "exception": false,
     "start_time": "2024-04-14T20:47:37.527032",
     "status": "completed"
    },
    "tags": []
   },
   "outputs": [],
   "source": [
    "data = pd.read_csv(\"/kaggle/input/online-food-dataset/onlinefoods.csv\")"
   ]
  },
  {
   "cell_type": "code",
   "execution_count": 3,
   "id": "aba59ee4",
   "metadata": {
    "ExecuteTime": {
     "end_time": "2024-04-14T20:17:36.963759300Z",
     "start_time": "2024-04-14T20:17:36.351827700Z"
    },
    "collapsed": false,
    "execution": {
     "iopub.execute_input": "2024-04-14T20:47:37.622393Z",
     "iopub.status.busy": "2024-04-14T20:47:37.621273Z",
     "iopub.status.idle": "2024-04-14T20:47:37.649484Z",
     "shell.execute_reply": "2024-04-14T20:47:37.648398Z"
    },
    "jupyter": {
     "outputs_hidden": false
    },
    "papermill": {
     "duration": 0.051748,
     "end_time": "2024-04-14T20:47:37.652371",
     "exception": false,
     "start_time": "2024-04-14T20:47:37.600623",
     "status": "completed"
    },
    "tags": []
   },
   "outputs": [
    {
     "data": {
      "text/html": [
       "<div>\n",
       "<style scoped>\n",
       "    .dataframe tbody tr th:only-of-type {\n",
       "        vertical-align: middle;\n",
       "    }\n",
       "\n",
       "    .dataframe tbody tr th {\n",
       "        vertical-align: top;\n",
       "    }\n",
       "\n",
       "    .dataframe thead th {\n",
       "        text-align: right;\n",
       "    }\n",
       "</style>\n",
       "<table border=\"1\" class=\"dataframe\">\n",
       "  <thead>\n",
       "    <tr style=\"text-align: right;\">\n",
       "      <th></th>\n",
       "      <th>Age</th>\n",
       "      <th>Gender</th>\n",
       "      <th>Marital Status</th>\n",
       "      <th>Occupation</th>\n",
       "      <th>Monthly Income</th>\n",
       "      <th>Educational Qualifications</th>\n",
       "      <th>Family size</th>\n",
       "      <th>latitude</th>\n",
       "      <th>longitude</th>\n",
       "      <th>Pin code</th>\n",
       "      <th>Output</th>\n",
       "      <th>Feedback</th>\n",
       "      <th>Unnamed: 12</th>\n",
       "    </tr>\n",
       "  </thead>\n",
       "  <tbody>\n",
       "    <tr>\n",
       "      <th>0</th>\n",
       "      <td>20</td>\n",
       "      <td>Female</td>\n",
       "      <td>Single</td>\n",
       "      <td>Student</td>\n",
       "      <td>No Income</td>\n",
       "      <td>Post Graduate</td>\n",
       "      <td>4</td>\n",
       "      <td>12.9766</td>\n",
       "      <td>77.5993</td>\n",
       "      <td>560001</td>\n",
       "      <td>Yes</td>\n",
       "      <td>Positive</td>\n",
       "      <td>Yes</td>\n",
       "    </tr>\n",
       "    <tr>\n",
       "      <th>1</th>\n",
       "      <td>24</td>\n",
       "      <td>Female</td>\n",
       "      <td>Single</td>\n",
       "      <td>Student</td>\n",
       "      <td>Below Rs.10000</td>\n",
       "      <td>Graduate</td>\n",
       "      <td>3</td>\n",
       "      <td>12.9770</td>\n",
       "      <td>77.5773</td>\n",
       "      <td>560009</td>\n",
       "      <td>Yes</td>\n",
       "      <td>Positive</td>\n",
       "      <td>Yes</td>\n",
       "    </tr>\n",
       "    <tr>\n",
       "      <th>2</th>\n",
       "      <td>22</td>\n",
       "      <td>Male</td>\n",
       "      <td>Single</td>\n",
       "      <td>Student</td>\n",
       "      <td>Below Rs.10000</td>\n",
       "      <td>Post Graduate</td>\n",
       "      <td>3</td>\n",
       "      <td>12.9551</td>\n",
       "      <td>77.6593</td>\n",
       "      <td>560017</td>\n",
       "      <td>Yes</td>\n",
       "      <td>Negative</td>\n",
       "      <td>Yes</td>\n",
       "    </tr>\n",
       "    <tr>\n",
       "      <th>3</th>\n",
       "      <td>22</td>\n",
       "      <td>Female</td>\n",
       "      <td>Single</td>\n",
       "      <td>Student</td>\n",
       "      <td>No Income</td>\n",
       "      <td>Graduate</td>\n",
       "      <td>6</td>\n",
       "      <td>12.9473</td>\n",
       "      <td>77.5616</td>\n",
       "      <td>560019</td>\n",
       "      <td>Yes</td>\n",
       "      <td>Positive</td>\n",
       "      <td>Yes</td>\n",
       "    </tr>\n",
       "    <tr>\n",
       "      <th>4</th>\n",
       "      <td>22</td>\n",
       "      <td>Male</td>\n",
       "      <td>Single</td>\n",
       "      <td>Student</td>\n",
       "      <td>Below Rs.10000</td>\n",
       "      <td>Post Graduate</td>\n",
       "      <td>4</td>\n",
       "      <td>12.9850</td>\n",
       "      <td>77.5533</td>\n",
       "      <td>560010</td>\n",
       "      <td>Yes</td>\n",
       "      <td>Positive</td>\n",
       "      <td>Yes</td>\n",
       "    </tr>\n",
       "  </tbody>\n",
       "</table>\n",
       "</div>"
      ],
      "text/plain": [
       "   Age  Gender Marital Status Occupation  Monthly Income  \\\n",
       "0   20  Female         Single    Student       No Income   \n",
       "1   24  Female         Single    Student  Below Rs.10000   \n",
       "2   22    Male         Single    Student  Below Rs.10000   \n",
       "3   22  Female         Single    Student       No Income   \n",
       "4   22    Male         Single    Student  Below Rs.10000   \n",
       "\n",
       "  Educational Qualifications  Family size  latitude  longitude  Pin code  \\\n",
       "0              Post Graduate            4   12.9766    77.5993    560001   \n",
       "1                   Graduate            3   12.9770    77.5773    560009   \n",
       "2              Post Graduate            3   12.9551    77.6593    560017   \n",
       "3                   Graduate            6   12.9473    77.5616    560019   \n",
       "4              Post Graduate            4   12.9850    77.5533    560010   \n",
       "\n",
       "  Output   Feedback Unnamed: 12  \n",
       "0    Yes   Positive         Yes  \n",
       "1    Yes   Positive         Yes  \n",
       "2    Yes  Negative          Yes  \n",
       "3    Yes   Positive         Yes  \n",
       "4    Yes   Positive         Yes  "
      ]
     },
     "execution_count": 3,
     "metadata": {},
     "output_type": "execute_result"
    }
   ],
   "source": [
    "data.head()"
   ]
  },
  {
   "cell_type": "code",
   "execution_count": 4,
   "id": "0bfaa529",
   "metadata": {
    "ExecuteTime": {
     "end_time": "2024-04-14T20:17:36.963759300Z",
     "start_time": "2024-04-14T20:17:36.370752900Z"
    },
    "collapsed": false,
    "execution": {
     "iopub.execute_input": "2024-04-14T20:47:37.691023Z",
     "iopub.status.busy": "2024-04-14T20:47:37.690577Z",
     "iopub.status.idle": "2024-04-14T20:47:37.697990Z",
     "shell.execute_reply": "2024-04-14T20:47:37.696890Z"
    },
    "jupyter": {
     "outputs_hidden": false
    },
    "papermill": {
     "duration": 0.029785,
     "end_time": "2024-04-14T20:47:37.700338",
     "exception": false,
     "start_time": "2024-04-14T20:47:37.670553",
     "status": "completed"
    },
    "tags": []
   },
   "outputs": [
    {
     "data": {
      "text/plain": [
       "(388, 13)"
      ]
     },
     "execution_count": 4,
     "metadata": {},
     "output_type": "execute_result"
    }
   ],
   "source": [
    "data.shape"
   ]
  },
  {
   "cell_type": "code",
   "execution_count": 5,
   "id": "94cbb9a7",
   "metadata": {
    "ExecuteTime": {
     "end_time": "2024-04-14T20:17:36.963759300Z",
     "start_time": "2024-04-14T20:17:36.379617700Z"
    },
    "collapsed": false,
    "execution": {
     "iopub.execute_input": "2024-04-14T20:47:37.739460Z",
     "iopub.status.busy": "2024-04-14T20:47:37.738958Z",
     "iopub.status.idle": "2024-04-14T20:47:37.751793Z",
     "shell.execute_reply": "2024-04-14T20:47:37.750593Z"
    },
    "jupyter": {
     "outputs_hidden": false
    },
    "papermill": {
     "duration": 0.03582,
     "end_time": "2024-04-14T20:47:37.754645",
     "exception": false,
     "start_time": "2024-04-14T20:47:37.718825",
     "status": "completed"
    },
    "tags": []
   },
   "outputs": [],
   "source": [
    "data.drop(\"Unnamed: 12\",axis=1,inplace=True)"
   ]
  },
  {
   "cell_type": "code",
   "execution_count": 6,
   "id": "a11821ed",
   "metadata": {
    "ExecuteTime": {
     "end_time": "2024-04-14T20:17:36.963759300Z",
     "start_time": "2024-04-14T20:17:36.387163500Z"
    },
    "collapsed": false,
    "execution": {
     "iopub.execute_input": "2024-04-14T20:47:37.794309Z",
     "iopub.status.busy": "2024-04-14T20:47:37.793801Z",
     "iopub.status.idle": "2024-04-14T20:47:37.827266Z",
     "shell.execute_reply": "2024-04-14T20:47:37.826042Z"
    },
    "jupyter": {
     "outputs_hidden": false
    },
    "papermill": {
     "duration": 0.056711,
     "end_time": "2024-04-14T20:47:37.830123",
     "exception": false,
     "start_time": "2024-04-14T20:47:37.773412",
     "status": "completed"
    },
    "tags": []
   },
   "outputs": [
    {
     "data": {
      "text/html": [
       "<div>\n",
       "<style scoped>\n",
       "    .dataframe tbody tr th:only-of-type {\n",
       "        vertical-align: middle;\n",
       "    }\n",
       "\n",
       "    .dataframe tbody tr th {\n",
       "        vertical-align: top;\n",
       "    }\n",
       "\n",
       "    .dataframe thead th {\n",
       "        text-align: right;\n",
       "    }\n",
       "</style>\n",
       "<table border=\"1\" class=\"dataframe\">\n",
       "  <thead>\n",
       "    <tr style=\"text-align: right;\">\n",
       "      <th></th>\n",
       "      <th>count</th>\n",
       "      <th>mean</th>\n",
       "      <th>std</th>\n",
       "      <th>min</th>\n",
       "      <th>25%</th>\n",
       "      <th>50%</th>\n",
       "      <th>75%</th>\n",
       "      <th>max</th>\n",
       "    </tr>\n",
       "  </thead>\n",
       "  <tbody>\n",
       "    <tr>\n",
       "      <th>Age</th>\n",
       "      <td>388.0</td>\n",
       "      <td>24.628866</td>\n",
       "      <td>2.975593</td>\n",
       "      <td>18.0</td>\n",
       "      <td>23.0</td>\n",
       "      <td>24.0</td>\n",
       "      <td>26.0</td>\n",
       "      <td>33.0</td>\n",
       "    </tr>\n",
       "    <tr>\n",
       "      <th>Family size</th>\n",
       "      <td>388.0</td>\n",
       "      <td>3.280928</td>\n",
       "      <td>1.351025</td>\n",
       "      <td>1.0</td>\n",
       "      <td>2.0</td>\n",
       "      <td>3.0</td>\n",
       "      <td>4.0</td>\n",
       "      <td>6.0</td>\n",
       "    </tr>\n",
       "  </tbody>\n",
       "</table>\n",
       "</div>"
      ],
      "text/plain": [
       "             count       mean       std   min   25%   50%   75%   max\n",
       "Age          388.0  24.628866  2.975593  18.0  23.0  24.0  26.0  33.0\n",
       "Family size  388.0   3.280928  1.351025   1.0   2.0   3.0   4.0   6.0"
      ]
     },
     "execution_count": 6,
     "metadata": {},
     "output_type": "execute_result"
    }
   ],
   "source": [
    "data[['Age','Family size']].describe().T"
   ]
  },
  {
   "cell_type": "code",
   "execution_count": 7,
   "id": "464745ec",
   "metadata": {
    "ExecuteTime": {
     "end_time": "2024-04-14T20:17:36.963759300Z",
     "start_time": "2024-04-14T20:17:36.411656900Z"
    },
    "collapsed": false,
    "execution": {
     "iopub.execute_input": "2024-04-14T20:47:37.871856Z",
     "iopub.status.busy": "2024-04-14T20:47:37.871057Z",
     "iopub.status.idle": "2024-04-14T20:47:37.888940Z",
     "shell.execute_reply": "2024-04-14T20:47:37.887790Z"
    },
    "jupyter": {
     "outputs_hidden": false
    },
    "papermill": {
     "duration": 0.041952,
     "end_time": "2024-04-14T20:47:37.891625",
     "exception": false,
     "start_time": "2024-04-14T20:47:37.849673",
     "status": "completed"
    },
    "tags": []
   },
   "outputs": [
    {
     "data": {
      "text/plain": [
       "Age                           16\n",
       "Gender                         2\n",
       "Marital Status                 3\n",
       "Occupation                     4\n",
       "Monthly Income                 5\n",
       "Educational Qualifications     5\n",
       "Family size                    6\n",
       "latitude                      77\n",
       "longitude                     76\n",
       "Pin code                      77\n",
       "Output                         2\n",
       "Feedback                       2\n",
       "dtype: int64"
      ]
     },
     "execution_count": 7,
     "metadata": {},
     "output_type": "execute_result"
    }
   ],
   "source": [
    "data.nunique()"
   ]
  },
  {
   "cell_type": "code",
   "execution_count": 8,
   "id": "f25a1869",
   "metadata": {
    "ExecuteTime": {
     "end_time": "2024-04-14T20:17:36.963759300Z",
     "start_time": "2024-04-14T20:17:36.419677700Z"
    },
    "collapsed": false,
    "execution": {
     "iopub.execute_input": "2024-04-14T20:47:37.933655Z",
     "iopub.status.busy": "2024-04-14T20:47:37.932732Z",
     "iopub.status.idle": "2024-04-14T20:47:37.943920Z",
     "shell.execute_reply": "2024-04-14T20:47:37.942755Z"
    },
    "jupyter": {
     "outputs_hidden": false
    },
    "papermill": {
     "duration": 0.035887,
     "end_time": "2024-04-14T20:47:37.947077",
     "exception": false,
     "start_time": "2024-04-14T20:47:37.911190",
     "status": "completed"
    },
    "tags": []
   },
   "outputs": [],
   "source": [
    "data.replace({\"Single\":0},inplace=True)\n",
    "data.replace({\"Married\":1},inplace=True)\n",
    "data.replace({\"Prefer not to say\":None},inplace=True)"
   ]
  },
  {
   "cell_type": "code",
   "execution_count": 9,
   "id": "5a019104",
   "metadata": {
    "ExecuteTime": {
     "end_time": "2024-04-14T20:17:36.963759300Z",
     "start_time": "2024-04-14T20:17:36.427867900Z"
    },
    "collapsed": false,
    "execution": {
     "iopub.execute_input": "2024-04-14T20:47:37.988676Z",
     "iopub.status.busy": "2024-04-14T20:47:37.988198Z",
     "iopub.status.idle": "2024-04-14T20:47:37.996446Z",
     "shell.execute_reply": "2024-04-14T20:47:37.995171Z"
    },
    "jupyter": {
     "outputs_hidden": false
    },
    "papermill": {
     "duration": 0.032565,
     "end_time": "2024-04-14T20:47:37.999176",
     "exception": false,
     "start_time": "2024-04-14T20:47:37.966611",
     "status": "completed"
    },
    "tags": []
   },
   "outputs": [
    {
     "data": {
      "text/plain": [
       "array([0, 1, None], dtype=object)"
      ]
     },
     "execution_count": 9,
     "metadata": {},
     "output_type": "execute_result"
    }
   ],
   "source": [
    "data[\"Marital Status\"].unique()"
   ]
  },
  {
   "cell_type": "code",
   "execution_count": 10,
   "id": "31d8538b",
   "metadata": {
    "ExecuteTime": {
     "end_time": "2024-04-14T20:17:36.963759300Z",
     "start_time": "2024-04-14T20:17:36.443865300Z"
    },
    "collapsed": false,
    "execution": {
     "iopub.execute_input": "2024-04-14T20:47:38.040743Z",
     "iopub.status.busy": "2024-04-14T20:47:38.040313Z",
     "iopub.status.idle": "2024-04-14T20:47:38.049144Z",
     "shell.execute_reply": "2024-04-14T20:47:38.047709Z"
    },
    "jupyter": {
     "outputs_hidden": false
    },
    "papermill": {
     "duration": 0.032779,
     "end_time": "2024-04-14T20:47:38.051791",
     "exception": false,
     "start_time": "2024-04-14T20:47:38.019012",
     "status": "completed"
    },
    "tags": []
   },
   "outputs": [
    {
     "data": {
      "text/plain": [
       "array(['Student', 'Employee', 'Self Employeed', 'House wife'],\n",
       "      dtype=object)"
      ]
     },
     "execution_count": 10,
     "metadata": {},
     "output_type": "execute_result"
    }
   ],
   "source": [
    "data['Occupation'].unique()"
   ]
  },
  {
   "cell_type": "code",
   "execution_count": 11,
   "id": "1be1f830",
   "metadata": {
    "ExecuteTime": {
     "end_time": "2024-04-14T20:17:36.963759300Z",
     "start_time": "2024-04-14T20:17:36.445914Z"
    },
    "collapsed": false,
    "execution": {
     "iopub.execute_input": "2024-04-14T20:47:38.094627Z",
     "iopub.status.busy": "2024-04-14T20:47:38.094168Z",
     "iopub.status.idle": "2024-04-14T20:47:38.102583Z",
     "shell.execute_reply": "2024-04-14T20:47:38.101393Z"
    },
    "jupyter": {
     "outputs_hidden": false
    },
    "papermill": {
     "duration": 0.033025,
     "end_time": "2024-04-14T20:47:38.104855",
     "exception": false,
     "start_time": "2024-04-14T20:47:38.071830",
     "status": "completed"
    },
    "tags": []
   },
   "outputs": [
    {
     "data": {
      "text/plain": [
       "array(['No Income', 'Below Rs.10000', 'More than 50000', '10001 to 25000',\n",
       "       '25001 to 50000'], dtype=object)"
      ]
     },
     "execution_count": 11,
     "metadata": {},
     "output_type": "execute_result"
    }
   ],
   "source": [
    "data['Monthly Income'].unique()"
   ]
  },
  {
   "cell_type": "code",
   "execution_count": 12,
   "id": "c8388a40",
   "metadata": {
    "ExecuteTime": {
     "end_time": "2024-04-14T20:17:36.963759300Z",
     "start_time": "2024-04-14T20:17:36.459037500Z"
    },
    "collapsed": false,
    "execution": {
     "iopub.execute_input": "2024-04-14T20:47:38.147741Z",
     "iopub.status.busy": "2024-04-14T20:47:38.146385Z",
     "iopub.status.idle": "2024-04-14T20:47:38.159410Z",
     "shell.execute_reply": "2024-04-14T20:47:38.158087Z"
    },
    "jupyter": {
     "outputs_hidden": false
    },
    "papermill": {
     "duration": 0.037505,
     "end_time": "2024-04-14T20:47:38.162245",
     "exception": false,
     "start_time": "2024-04-14T20:47:38.124740",
     "status": "completed"
    },
    "tags": []
   },
   "outputs": [
    {
     "name": "stderr",
     "output_type": "stream",
     "text": [
      "/tmp/ipykernel_18/822721341.py:1: FutureWarning: A value is trying to be set on a copy of a DataFrame or Series through chained assignment using an inplace method.\n",
      "The behavior will change in pandas 3.0. This inplace method will never work because the intermediate object on which we are setting values always behaves as a copy.\n",
      "\n",
      "For example, when doing 'df[col].method(value, inplace=True)', try using 'df.method({col: value}, inplace=True)' or df[col] = df[col].method(value) instead, to perform the operation inplace on the original object.\n",
      "\n",
      "\n",
      "  data[\"Monthly Income\"].replace({\"No Income\":0},inplace=True)\n",
      "/tmp/ipykernel_18/822721341.py:5: FutureWarning: Downcasting behavior in `replace` is deprecated and will be removed in a future version. To retain the old behavior, explicitly call `result.infer_objects(copy=False)`. To opt-in to the future behavior, set `pd.set_option('future.no_silent_downcasting', True)`\n",
      "  data[\"Monthly Income\"].replace({\"More than 50000\":50000},inplace=True)\n"
     ]
    }
   ],
   "source": [
    "data[\"Monthly Income\"].replace({\"No Income\":0},inplace=True)\n",
    "data[\"Monthly Income\"].replace({\"Below Rs.10000\":5000},inplace=True) # median of income in this range\n",
    "data[\"Monthly Income\"].replace({\"10001 to 25000\":17500},inplace=True) # median of income in this range\n",
    "data[\"Monthly Income\"].replace({\"25001 to 50000\":37500},inplace=True) # median of income in this range\n",
    "data[\"Monthly Income\"].replace({\"More than 50000\":50000},inplace=True)"
   ]
  },
  {
   "cell_type": "code",
   "execution_count": 13,
   "id": "d9343f00",
   "metadata": {
    "ExecuteTime": {
     "end_time": "2024-04-14T20:17:36.963759300Z",
     "start_time": "2024-04-14T20:17:36.464062400Z"
    },
    "collapsed": false,
    "execution": {
     "iopub.execute_input": "2024-04-14T20:47:38.205969Z",
     "iopub.status.busy": "2024-04-14T20:47:38.205568Z",
     "iopub.status.idle": "2024-04-14T20:47:38.212549Z",
     "shell.execute_reply": "2024-04-14T20:47:38.211753Z"
    },
    "jupyter": {
     "outputs_hidden": false
    },
    "papermill": {
     "duration": 0.031319,
     "end_time": "2024-04-14T20:47:38.215231",
     "exception": false,
     "start_time": "2024-04-14T20:47:38.183912",
     "status": "completed"
    },
    "tags": []
   },
   "outputs": [
    {
     "data": {
      "text/plain": [
       "array([    0,  5000, 50000, 17500, 37500])"
      ]
     },
     "execution_count": 13,
     "metadata": {},
     "output_type": "execute_result"
    }
   ],
   "source": [
    "data['Monthly Income'].unique()"
   ]
  },
  {
   "cell_type": "code",
   "execution_count": 14,
   "id": "3f52c51b",
   "metadata": {
    "ExecuteTime": {
     "end_time": "2024-04-14T20:17:36.963759300Z",
     "start_time": "2024-04-14T20:17:36.474887400Z"
    },
    "collapsed": false,
    "execution": {
     "iopub.execute_input": "2024-04-14T20:47:38.257768Z",
     "iopub.status.busy": "2024-04-14T20:47:38.257315Z",
     "iopub.status.idle": "2024-04-14T20:47:38.265707Z",
     "shell.execute_reply": "2024-04-14T20:47:38.264300Z"
    },
    "jupyter": {
     "outputs_hidden": false
    },
    "papermill": {
     "duration": 0.032797,
     "end_time": "2024-04-14T20:47:38.268254",
     "exception": false,
     "start_time": "2024-04-14T20:47:38.235457",
     "status": "completed"
    },
    "tags": []
   },
   "outputs": [
    {
     "data": {
      "text/plain": [
       "array(['Post Graduate', 'Graduate', 'Ph.D', 'Uneducated', 'School'],\n",
       "      dtype=object)"
      ]
     },
     "execution_count": 14,
     "metadata": {},
     "output_type": "execute_result"
    }
   ],
   "source": [
    "data['Educational Qualifications'].unique()"
   ]
  },
  {
   "cell_type": "code",
   "execution_count": 15,
   "id": "67704c66",
   "metadata": {
    "ExecuteTime": {
     "end_time": "2024-04-14T20:17:36.963759300Z",
     "start_time": "2024-04-14T20:17:36.485911100Z"
    },
    "collapsed": false,
    "execution": {
     "iopub.execute_input": "2024-04-14T20:47:38.311691Z",
     "iopub.status.busy": "2024-04-14T20:47:38.311265Z",
     "iopub.status.idle": "2024-04-14T20:47:38.321764Z",
     "shell.execute_reply": "2024-04-14T20:47:38.320587Z"
    },
    "jupyter": {
     "outputs_hidden": false
    },
    "papermill": {
     "duration": 0.035951,
     "end_time": "2024-04-14T20:47:38.324792",
     "exception": false,
     "start_time": "2024-04-14T20:47:38.288841",
     "status": "completed"
    },
    "tags": []
   },
   "outputs": [
    {
     "name": "stderr",
     "output_type": "stream",
     "text": [
      "/tmp/ipykernel_18/2957174690.py:1: FutureWarning: A value is trying to be set on a copy of a DataFrame or Series through chained assignment using an inplace method.\n",
      "The behavior will change in pandas 3.0. This inplace method will never work because the intermediate object on which we are setting values always behaves as a copy.\n",
      "\n",
      "For example, when doing 'df[col].method(value, inplace=True)', try using 'df.method({col: value}, inplace=True)' or df[col] = df[col].method(value) instead, to perform the operation inplace on the original object.\n",
      "\n",
      "\n",
      "  data[\"Educational Qualifications\"].replace({\"Uneducated\":0},inplace=True)\n",
      "/tmp/ipykernel_18/2957174690.py:5: FutureWarning: Downcasting behavior in `replace` is deprecated and will be removed in a future version. To retain the old behavior, explicitly call `result.infer_objects(copy=False)`. To opt-in to the future behavior, set `pd.set_option('future.no_silent_downcasting', True)`\n",
      "  data[\"Educational Qualifications\"].replace({\"Ph.D\":4},inplace=True)\n"
     ]
    }
   ],
   "source": [
    "data[\"Educational Qualifications\"].replace({\"Uneducated\":0},inplace=True)\n",
    "data[\"Educational Qualifications\"].replace({\"School\":1},inplace=True)\n",
    "data[\"Educational Qualifications\"].replace({\"Graduate\":2},inplace=True)\n",
    "data[\"Educational Qualifications\"].replace({\"Post Graduate\":3},inplace=True)\n",
    "data[\"Educational Qualifications\"].replace({\"Ph.D\":4},inplace=True)"
   ]
  },
  {
   "cell_type": "code",
   "execution_count": 16,
   "id": "b62d4098",
   "metadata": {
    "ExecuteTime": {
     "end_time": "2024-04-14T20:17:36.963759300Z",
     "start_time": "2024-04-14T20:17:36.495738400Z"
    },
    "collapsed": false,
    "execution": {
     "iopub.execute_input": "2024-04-14T20:47:38.369327Z",
     "iopub.status.busy": "2024-04-14T20:47:38.368896Z",
     "iopub.status.idle": "2024-04-14T20:47:38.375702Z",
     "shell.execute_reply": "2024-04-14T20:47:38.374207Z"
    },
    "jupyter": {
     "outputs_hidden": false
    },
    "papermill": {
     "duration": 0.032729,
     "end_time": "2024-04-14T20:47:38.378356",
     "exception": false,
     "start_time": "2024-04-14T20:47:38.345627",
     "status": "completed"
    },
    "tags": []
   },
   "outputs": [],
   "source": [
    "data['Gender'] = LabelEncoder().fit_transform(data['Gender'])"
   ]
  },
  {
   "cell_type": "code",
   "execution_count": 17,
   "id": "11a5b8f9",
   "metadata": {
    "ExecuteTime": {
     "end_time": "2024-04-14T20:17:36.963759300Z",
     "start_time": "2024-04-14T20:17:36.508092200Z"
    },
    "collapsed": false,
    "execution": {
     "iopub.execute_input": "2024-04-14T20:47:38.422631Z",
     "iopub.status.busy": "2024-04-14T20:47:38.422157Z",
     "iopub.status.idle": "2024-04-14T20:47:38.429110Z",
     "shell.execute_reply": "2024-04-14T20:47:38.427798Z"
    },
    "jupyter": {
     "outputs_hidden": false
    },
    "papermill": {
     "duration": 0.032319,
     "end_time": "2024-04-14T20:47:38.431818",
     "exception": false,
     "start_time": "2024-04-14T20:47:38.399499",
     "status": "completed"
    },
    "tags": []
   },
   "outputs": [],
   "source": [
    "data['Output'] = LabelEncoder().fit_transform(data['Output'])"
   ]
  },
  {
   "cell_type": "code",
   "execution_count": 18,
   "id": "c4332ccb",
   "metadata": {
    "ExecuteTime": {
     "end_time": "2024-04-14T20:17:36.963759300Z",
     "start_time": "2024-04-14T20:17:36.519520500Z"
    },
    "collapsed": false,
    "execution": {
     "iopub.execute_input": "2024-04-14T20:47:38.475901Z",
     "iopub.status.busy": "2024-04-14T20:47:38.475476Z",
     "iopub.status.idle": "2024-04-14T20:47:38.482044Z",
     "shell.execute_reply": "2024-04-14T20:47:38.480686Z"
    },
    "jupyter": {
     "outputs_hidden": false
    },
    "papermill": {
     "duration": 0.032064,
     "end_time": "2024-04-14T20:47:38.484946",
     "exception": false,
     "start_time": "2024-04-14T20:47:38.452882",
     "status": "completed"
    },
    "tags": []
   },
   "outputs": [],
   "source": [
    "data['Feedback'] = LabelEncoder().fit_transform(data['Feedback'])"
   ]
  },
  {
   "cell_type": "code",
   "execution_count": 19,
   "id": "62842626",
   "metadata": {
    "ExecuteTime": {
     "end_time": "2024-04-14T20:17:36.963759300Z",
     "start_time": "2024-04-14T20:17:36.522527200Z"
    },
    "collapsed": false,
    "execution": {
     "iopub.execute_input": "2024-04-14T20:47:38.527999Z",
     "iopub.status.busy": "2024-04-14T20:47:38.527189Z",
     "iopub.status.idle": "2024-04-14T20:47:38.545002Z",
     "shell.execute_reply": "2024-04-14T20:47:38.543813Z"
    },
    "jupyter": {
     "outputs_hidden": false
    },
    "papermill": {
     "duration": 0.042228,
     "end_time": "2024-04-14T20:47:38.547403",
     "exception": false,
     "start_time": "2024-04-14T20:47:38.505175",
     "status": "completed"
    },
    "tags": []
   },
   "outputs": [
    {
     "data": {
      "text/html": [
       "<div>\n",
       "<style scoped>\n",
       "    .dataframe tbody tr th:only-of-type {\n",
       "        vertical-align: middle;\n",
       "    }\n",
       "\n",
       "    .dataframe tbody tr th {\n",
       "        vertical-align: top;\n",
       "    }\n",
       "\n",
       "    .dataframe thead th {\n",
       "        text-align: right;\n",
       "    }\n",
       "</style>\n",
       "<table border=\"1\" class=\"dataframe\">\n",
       "  <thead>\n",
       "    <tr style=\"text-align: right;\">\n",
       "      <th></th>\n",
       "      <th>Age</th>\n",
       "      <th>Gender</th>\n",
       "      <th>Marital Status</th>\n",
       "      <th>Occupation</th>\n",
       "      <th>Monthly Income</th>\n",
       "      <th>Educational Qualifications</th>\n",
       "      <th>Family size</th>\n",
       "      <th>latitude</th>\n",
       "      <th>longitude</th>\n",
       "      <th>Pin code</th>\n",
       "      <th>Output</th>\n",
       "      <th>Feedback</th>\n",
       "    </tr>\n",
       "  </thead>\n",
       "  <tbody>\n",
       "    <tr>\n",
       "      <th>0</th>\n",
       "      <td>20</td>\n",
       "      <td>0</td>\n",
       "      <td>0</td>\n",
       "      <td>Student</td>\n",
       "      <td>0</td>\n",
       "      <td>3</td>\n",
       "      <td>4</td>\n",
       "      <td>12.9766</td>\n",
       "      <td>77.5993</td>\n",
       "      <td>560001</td>\n",
       "      <td>1</td>\n",
       "      <td>1</td>\n",
       "    </tr>\n",
       "    <tr>\n",
       "      <th>1</th>\n",
       "      <td>24</td>\n",
       "      <td>0</td>\n",
       "      <td>0</td>\n",
       "      <td>Student</td>\n",
       "      <td>5000</td>\n",
       "      <td>2</td>\n",
       "      <td>3</td>\n",
       "      <td>12.9770</td>\n",
       "      <td>77.5773</td>\n",
       "      <td>560009</td>\n",
       "      <td>1</td>\n",
       "      <td>1</td>\n",
       "    </tr>\n",
       "    <tr>\n",
       "      <th>2</th>\n",
       "      <td>22</td>\n",
       "      <td>1</td>\n",
       "      <td>0</td>\n",
       "      <td>Student</td>\n",
       "      <td>5000</td>\n",
       "      <td>3</td>\n",
       "      <td>3</td>\n",
       "      <td>12.9551</td>\n",
       "      <td>77.6593</td>\n",
       "      <td>560017</td>\n",
       "      <td>1</td>\n",
       "      <td>0</td>\n",
       "    </tr>\n",
       "    <tr>\n",
       "      <th>3</th>\n",
       "      <td>22</td>\n",
       "      <td>0</td>\n",
       "      <td>0</td>\n",
       "      <td>Student</td>\n",
       "      <td>0</td>\n",
       "      <td>2</td>\n",
       "      <td>6</td>\n",
       "      <td>12.9473</td>\n",
       "      <td>77.5616</td>\n",
       "      <td>560019</td>\n",
       "      <td>1</td>\n",
       "      <td>1</td>\n",
       "    </tr>\n",
       "    <tr>\n",
       "      <th>4</th>\n",
       "      <td>22</td>\n",
       "      <td>1</td>\n",
       "      <td>0</td>\n",
       "      <td>Student</td>\n",
       "      <td>5000</td>\n",
       "      <td>3</td>\n",
       "      <td>4</td>\n",
       "      <td>12.9850</td>\n",
       "      <td>77.5533</td>\n",
       "      <td>560010</td>\n",
       "      <td>1</td>\n",
       "      <td>1</td>\n",
       "    </tr>\n",
       "  </tbody>\n",
       "</table>\n",
       "</div>"
      ],
      "text/plain": [
       "   Age  Gender Marital Status Occupation  Monthly Income  \\\n",
       "0   20       0              0    Student               0   \n",
       "1   24       0              0    Student            5000   \n",
       "2   22       1              0    Student            5000   \n",
       "3   22       0              0    Student               0   \n",
       "4   22       1              0    Student            5000   \n",
       "\n",
       "   Educational Qualifications  Family size  latitude  longitude  Pin code  \\\n",
       "0                           3            4   12.9766    77.5993    560001   \n",
       "1                           2            3   12.9770    77.5773    560009   \n",
       "2                           3            3   12.9551    77.6593    560017   \n",
       "3                           2            6   12.9473    77.5616    560019   \n",
       "4                           3            4   12.9850    77.5533    560010   \n",
       "\n",
       "   Output  Feedback  \n",
       "0       1         1  \n",
       "1       1         1  \n",
       "2       1         0  \n",
       "3       1         1  \n",
       "4       1         1  "
      ]
     },
     "execution_count": 19,
     "metadata": {},
     "output_type": "execute_result"
    }
   ],
   "source": [
    "data.head()"
   ]
  },
  {
   "cell_type": "code",
   "execution_count": null,
   "id": "8ef3557d",
   "metadata": {
    "ExecuteTime": {
     "end_time": "2024-04-14T20:17:36.963759300Z",
     "start_time": "2024-04-14T20:17:36.538068100Z"
    },
    "collapsed": false,
    "jupyter": {
     "outputs_hidden": false
    },
    "papermill": {
     "duration": 0.019758,
     "end_time": "2024-04-14T20:47:38.587253",
     "exception": false,
     "start_time": "2024-04-14T20:47:38.567495",
     "status": "completed"
    },
    "tags": []
   },
   "outputs": [],
   "source": []
  },
  {
   "cell_type": "code",
   "execution_count": 20,
   "id": "7470691f",
   "metadata": {
    "ExecuteTime": {
     "end_time": "2024-04-14T20:17:36.963759300Z",
     "start_time": "2024-04-14T20:17:36.538574400Z"
    },
    "collapsed": false,
    "execution": {
     "iopub.execute_input": "2024-04-14T20:47:38.629487Z",
     "iopub.status.busy": "2024-04-14T20:47:38.629028Z",
     "iopub.status.idle": "2024-04-14T20:47:38.634661Z",
     "shell.execute_reply": "2024-04-14T20:47:38.633815Z"
    },
    "jupyter": {
     "outputs_hidden": false
    },
    "papermill": {
     "duration": 0.029654,
     "end_time": "2024-04-14T20:47:38.636947",
     "exception": false,
     "start_time": "2024-04-14T20:47:38.607293",
     "status": "completed"
    },
    "tags": []
   },
   "outputs": [],
   "source": [
    "data[\"is working\"] = None"
   ]
  },
  {
   "cell_type": "code",
   "execution_count": 21,
   "id": "96c186d2",
   "metadata": {
    "ExecuteTime": {
     "end_time": "2024-04-14T20:17:36.963759300Z",
     "start_time": "2024-04-14T20:17:36.544096300Z"
    },
    "collapsed": false,
    "execution": {
     "iopub.execute_input": "2024-04-14T20:47:38.748977Z",
     "iopub.status.busy": "2024-04-14T20:47:38.748515Z",
     "iopub.status.idle": "2024-04-14T20:47:38.758233Z",
     "shell.execute_reply": "2024-04-14T20:47:38.757308Z"
    },
    "jupyter": {
     "outputs_hidden": false
    },
    "papermill": {
     "duration": 0.033735,
     "end_time": "2024-04-14T20:47:38.760305",
     "exception": false,
     "start_time": "2024-04-14T20:47:38.726570",
     "status": "completed"
    },
    "tags": []
   },
   "outputs": [],
   "source": [
    "data.loc[data[\"Occupation\"] == \"Student\"         ,\"is working\"] = 0\n",
    "data.loc[data[\"Occupation\"] == \"Self Employeed\"  ,\"is working\"] = 1\n",
    "data.loc[data[\"Occupation\"] == \"Employee\"        ,\"is working\"] = 1\n",
    "data.loc[data[\"Occupation\"] == \"House wife\"      ,\"is working\"] = 0"
   ]
  },
  {
   "cell_type": "code",
   "execution_count": 22,
   "id": "20eaad9a",
   "metadata": {
    "ExecuteTime": {
     "end_time": "2024-04-14T20:17:36.963759300Z",
     "start_time": "2024-04-14T20:17:36.554086100Z"
    },
    "collapsed": false,
    "execution": {
     "iopub.execute_input": "2024-04-14T20:47:38.803937Z",
     "iopub.status.busy": "2024-04-14T20:47:38.802990Z",
     "iopub.status.idle": "2024-04-14T20:47:38.810451Z",
     "shell.execute_reply": "2024-04-14T20:47:38.809481Z"
    },
    "jupyter": {
     "outputs_hidden": false
    },
    "papermill": {
     "duration": 0.031935,
     "end_time": "2024-04-14T20:47:38.812633",
     "exception": false,
     "start_time": "2024-04-14T20:47:38.780698",
     "status": "completed"
    },
    "tags": []
   },
   "outputs": [
    {
     "data": {
      "text/plain": [
       "array([0, 1], dtype=object)"
      ]
     },
     "execution_count": 22,
     "metadata": {},
     "output_type": "execute_result"
    }
   ],
   "source": [
    "data[\"is working\"].unique()"
   ]
  },
  {
   "cell_type": "raw",
   "id": "592e0063",
   "metadata": {
    "papermill": {
     "duration": 0.020629,
     "end_time": "2024-04-14T20:47:38.853659",
     "exception": false,
     "start_time": "2024-04-14T20:47:38.833030",
     "status": "completed"
    },
    "tags": []
   },
   "source": [
    "It seems ok"
   ]
  },
  {
   "cell_type": "code",
   "execution_count": 23,
   "id": "969be254",
   "metadata": {
    "ExecuteTime": {
     "end_time": "2024-04-14T20:17:36.963759300Z",
     "start_time": "2024-04-14T20:17:36.561824700Z"
    },
    "collapsed": false,
    "execution": {
     "iopub.execute_input": "2024-04-14T20:47:38.896533Z",
     "iopub.status.busy": "2024-04-14T20:47:38.896058Z",
     "iopub.status.idle": "2024-04-14T20:47:38.913633Z",
     "shell.execute_reply": "2024-04-14T20:47:38.912413Z"
    },
    "jupyter": {
     "outputs_hidden": false
    },
    "papermill": {
     "duration": 0.042032,
     "end_time": "2024-04-14T20:47:38.916072",
     "exception": false,
     "start_time": "2024-04-14T20:47:38.874040",
     "status": "completed"
    },
    "tags": []
   },
   "outputs": [
    {
     "data": {
      "text/html": [
       "<div>\n",
       "<style scoped>\n",
       "    .dataframe tbody tr th:only-of-type {\n",
       "        vertical-align: middle;\n",
       "    }\n",
       "\n",
       "    .dataframe tbody tr th {\n",
       "        vertical-align: top;\n",
       "    }\n",
       "\n",
       "    .dataframe thead th {\n",
       "        text-align: right;\n",
       "    }\n",
       "</style>\n",
       "<table border=\"1\" class=\"dataframe\">\n",
       "  <thead>\n",
       "    <tr style=\"text-align: right;\">\n",
       "      <th></th>\n",
       "      <th>Age</th>\n",
       "      <th>Gender</th>\n",
       "      <th>Marital Status</th>\n",
       "      <th>Occupation</th>\n",
       "      <th>Monthly Income</th>\n",
       "      <th>Educational Qualifications</th>\n",
       "      <th>Family size</th>\n",
       "      <th>latitude</th>\n",
       "      <th>longitude</th>\n",
       "      <th>Pin code</th>\n",
       "      <th>Output</th>\n",
       "      <th>Feedback</th>\n",
       "      <th>is working</th>\n",
       "    </tr>\n",
       "  </thead>\n",
       "  <tbody>\n",
       "    <tr>\n",
       "      <th>0</th>\n",
       "      <td>20</td>\n",
       "      <td>0</td>\n",
       "      <td>0</td>\n",
       "      <td>Student</td>\n",
       "      <td>0</td>\n",
       "      <td>3</td>\n",
       "      <td>4</td>\n",
       "      <td>12.9766</td>\n",
       "      <td>77.5993</td>\n",
       "      <td>560001</td>\n",
       "      <td>1</td>\n",
       "      <td>1</td>\n",
       "      <td>0</td>\n",
       "    </tr>\n",
       "    <tr>\n",
       "      <th>1</th>\n",
       "      <td>24</td>\n",
       "      <td>0</td>\n",
       "      <td>0</td>\n",
       "      <td>Student</td>\n",
       "      <td>5000</td>\n",
       "      <td>2</td>\n",
       "      <td>3</td>\n",
       "      <td>12.9770</td>\n",
       "      <td>77.5773</td>\n",
       "      <td>560009</td>\n",
       "      <td>1</td>\n",
       "      <td>1</td>\n",
       "      <td>0</td>\n",
       "    </tr>\n",
       "    <tr>\n",
       "      <th>2</th>\n",
       "      <td>22</td>\n",
       "      <td>1</td>\n",
       "      <td>0</td>\n",
       "      <td>Student</td>\n",
       "      <td>5000</td>\n",
       "      <td>3</td>\n",
       "      <td>3</td>\n",
       "      <td>12.9551</td>\n",
       "      <td>77.6593</td>\n",
       "      <td>560017</td>\n",
       "      <td>1</td>\n",
       "      <td>0</td>\n",
       "      <td>0</td>\n",
       "    </tr>\n",
       "    <tr>\n",
       "      <th>3</th>\n",
       "      <td>22</td>\n",
       "      <td>0</td>\n",
       "      <td>0</td>\n",
       "      <td>Student</td>\n",
       "      <td>0</td>\n",
       "      <td>2</td>\n",
       "      <td>6</td>\n",
       "      <td>12.9473</td>\n",
       "      <td>77.5616</td>\n",
       "      <td>560019</td>\n",
       "      <td>1</td>\n",
       "      <td>1</td>\n",
       "      <td>0</td>\n",
       "    </tr>\n",
       "    <tr>\n",
       "      <th>4</th>\n",
       "      <td>22</td>\n",
       "      <td>1</td>\n",
       "      <td>0</td>\n",
       "      <td>Student</td>\n",
       "      <td>5000</td>\n",
       "      <td>3</td>\n",
       "      <td>4</td>\n",
       "      <td>12.9850</td>\n",
       "      <td>77.5533</td>\n",
       "      <td>560010</td>\n",
       "      <td>1</td>\n",
       "      <td>1</td>\n",
       "      <td>0</td>\n",
       "    </tr>\n",
       "  </tbody>\n",
       "</table>\n",
       "</div>"
      ],
      "text/plain": [
       "   Age  Gender Marital Status Occupation  Monthly Income  \\\n",
       "0   20       0              0    Student               0   \n",
       "1   24       0              0    Student            5000   \n",
       "2   22       1              0    Student            5000   \n",
       "3   22       0              0    Student               0   \n",
       "4   22       1              0    Student            5000   \n",
       "\n",
       "   Educational Qualifications  Family size  latitude  longitude  Pin code  \\\n",
       "0                           3            4   12.9766    77.5993    560001   \n",
       "1                           2            3   12.9770    77.5773    560009   \n",
       "2                           3            3   12.9551    77.6593    560017   \n",
       "3                           2            6   12.9473    77.5616    560019   \n",
       "4                           3            4   12.9850    77.5533    560010   \n",
       "\n",
       "   Output  Feedback is working  \n",
       "0       1         1          0  \n",
       "1       1         1          0  \n",
       "2       1         0          0  \n",
       "3       1         1          0  \n",
       "4       1         1          0  "
      ]
     },
     "execution_count": 23,
     "metadata": {},
     "output_type": "execute_result"
    }
   ],
   "source": [
    "data.head()"
   ]
  },
  {
   "cell_type": "code",
   "execution_count": 24,
   "id": "347e95aa",
   "metadata": {
    "ExecuteTime": {
     "end_time": "2024-04-14T20:17:36.963759300Z",
     "start_time": "2024-04-14T20:17:36.583444100Z"
    },
    "collapsed": false,
    "execution": {
     "iopub.execute_input": "2024-04-14T20:47:38.961056Z",
     "iopub.status.busy": "2024-04-14T20:47:38.959965Z",
     "iopub.status.idle": "2024-04-14T20:47:38.973017Z",
     "shell.execute_reply": "2024-04-14T20:47:38.971810Z"
    },
    "jupyter": {
     "outputs_hidden": false
    },
    "papermill": {
     "duration": 0.038693,
     "end_time": "2024-04-14T20:47:38.976011",
     "exception": false,
     "start_time": "2024-04-14T20:47:38.937318",
     "status": "completed"
    },
    "tags": []
   },
   "outputs": [],
   "source": [
    "one_enc_df = pd.DataFrame(OneHotEncoder().fit_transform(pd.DataFrame(data[\"Occupation\"])).toarray())\n",
    "data = pd.concat([data,one_enc_df],axis=1)"
   ]
  },
  {
   "cell_type": "code",
   "execution_count": 25,
   "id": "16e97382",
   "metadata": {
    "ExecuteTime": {
     "end_time": "2024-04-14T20:17:36.963759300Z",
     "start_time": "2024-04-14T20:17:36.585950800Z"
    },
    "collapsed": false,
    "execution": {
     "iopub.execute_input": "2024-04-14T20:47:39.019975Z",
     "iopub.status.busy": "2024-04-14T20:47:39.019565Z",
     "iopub.status.idle": "2024-04-14T20:47:39.042665Z",
     "shell.execute_reply": "2024-04-14T20:47:39.041329Z"
    },
    "jupyter": {
     "outputs_hidden": false
    },
    "papermill": {
     "duration": 0.04776,
     "end_time": "2024-04-14T20:47:39.045125",
     "exception": false,
     "start_time": "2024-04-14T20:47:38.997365",
     "status": "completed"
    },
    "tags": []
   },
   "outputs": [
    {
     "data": {
      "text/html": [
       "<div>\n",
       "<style scoped>\n",
       "    .dataframe tbody tr th:only-of-type {\n",
       "        vertical-align: middle;\n",
       "    }\n",
       "\n",
       "    .dataframe tbody tr th {\n",
       "        vertical-align: top;\n",
       "    }\n",
       "\n",
       "    .dataframe thead th {\n",
       "        text-align: right;\n",
       "    }\n",
       "</style>\n",
       "<table border=\"1\" class=\"dataframe\">\n",
       "  <thead>\n",
       "    <tr style=\"text-align: right;\">\n",
       "      <th></th>\n",
       "      <th>Age</th>\n",
       "      <th>Gender</th>\n",
       "      <th>Marital Status</th>\n",
       "      <th>Occupation</th>\n",
       "      <th>Monthly Income</th>\n",
       "      <th>Educational Qualifications</th>\n",
       "      <th>Family size</th>\n",
       "      <th>latitude</th>\n",
       "      <th>longitude</th>\n",
       "      <th>Pin code</th>\n",
       "      <th>Output</th>\n",
       "      <th>Feedback</th>\n",
       "      <th>is working</th>\n",
       "      <th>0</th>\n",
       "      <th>1</th>\n",
       "      <th>2</th>\n",
       "      <th>3</th>\n",
       "    </tr>\n",
       "  </thead>\n",
       "  <tbody>\n",
       "    <tr>\n",
       "      <th>0</th>\n",
       "      <td>20</td>\n",
       "      <td>0</td>\n",
       "      <td>0</td>\n",
       "      <td>Student</td>\n",
       "      <td>0</td>\n",
       "      <td>3</td>\n",
       "      <td>4</td>\n",
       "      <td>12.9766</td>\n",
       "      <td>77.5993</td>\n",
       "      <td>560001</td>\n",
       "      <td>1</td>\n",
       "      <td>1</td>\n",
       "      <td>0</td>\n",
       "      <td>0.0</td>\n",
       "      <td>0.0</td>\n",
       "      <td>0.0</td>\n",
       "      <td>1.0</td>\n",
       "    </tr>\n",
       "  </tbody>\n",
       "</table>\n",
       "</div>"
      ],
      "text/plain": [
       "   Age  Gender Marital Status Occupation  Monthly Income  \\\n",
       "0   20       0              0    Student               0   \n",
       "\n",
       "   Educational Qualifications  Family size  latitude  longitude  Pin code  \\\n",
       "0                           3            4   12.9766    77.5993    560001   \n",
       "\n",
       "   Output  Feedback is working    0    1    2    3  \n",
       "0       1         1          0  0.0  0.0  0.0  1.0  "
      ]
     },
     "execution_count": 25,
     "metadata": {},
     "output_type": "execute_result"
    }
   ],
   "source": [
    "data[data[\"Occupation\"] == \"Student\"].head(1)"
   ]
  },
  {
   "cell_type": "code",
   "execution_count": 26,
   "id": "e131eebf",
   "metadata": {
    "ExecuteTime": {
     "end_time": "2024-04-14T20:17:36.963759300Z",
     "start_time": "2024-04-14T20:17:36.601739300Z"
    },
    "collapsed": false,
    "execution": {
     "iopub.execute_input": "2024-04-14T20:47:39.091090Z",
     "iopub.status.busy": "2024-04-14T20:47:39.089889Z",
     "iopub.status.idle": "2024-04-14T20:47:39.114380Z",
     "shell.execute_reply": "2024-04-14T20:47:39.113055Z"
    },
    "jupyter": {
     "outputs_hidden": false
    },
    "papermill": {
     "duration": 0.050472,
     "end_time": "2024-04-14T20:47:39.117098",
     "exception": false,
     "start_time": "2024-04-14T20:47:39.066626",
     "status": "completed"
    },
    "tags": []
   },
   "outputs": [
    {
     "data": {
      "text/html": [
       "<div>\n",
       "<style scoped>\n",
       "    .dataframe tbody tr th:only-of-type {\n",
       "        vertical-align: middle;\n",
       "    }\n",
       "\n",
       "    .dataframe tbody tr th {\n",
       "        vertical-align: top;\n",
       "    }\n",
       "\n",
       "    .dataframe thead th {\n",
       "        text-align: right;\n",
       "    }\n",
       "</style>\n",
       "<table border=\"1\" class=\"dataframe\">\n",
       "  <thead>\n",
       "    <tr style=\"text-align: right;\">\n",
       "      <th></th>\n",
       "      <th>Age</th>\n",
       "      <th>Gender</th>\n",
       "      <th>Marital Status</th>\n",
       "      <th>Occupation</th>\n",
       "      <th>Monthly Income</th>\n",
       "      <th>Educational Qualifications</th>\n",
       "      <th>Family size</th>\n",
       "      <th>latitude</th>\n",
       "      <th>longitude</th>\n",
       "      <th>Pin code</th>\n",
       "      <th>Output</th>\n",
       "      <th>Feedback</th>\n",
       "      <th>is working</th>\n",
       "      <th>0</th>\n",
       "      <th>1</th>\n",
       "      <th>2</th>\n",
       "      <th>3</th>\n",
       "    </tr>\n",
       "  </thead>\n",
       "  <tbody>\n",
       "    <tr>\n",
       "      <th>37</th>\n",
       "      <td>32</td>\n",
       "      <td>0</td>\n",
       "      <td>None</td>\n",
       "      <td>House wife</td>\n",
       "      <td>0</td>\n",
       "      <td>2</td>\n",
       "      <td>5</td>\n",
       "      <td>12.982</td>\n",
       "      <td>77.6256</td>\n",
       "      <td>560008</td>\n",
       "      <td>1</td>\n",
       "      <td>0</td>\n",
       "      <td>0</td>\n",
       "      <td>0.0</td>\n",
       "      <td>1.0</td>\n",
       "      <td>0.0</td>\n",
       "      <td>0.0</td>\n",
       "    </tr>\n",
       "  </tbody>\n",
       "</table>\n",
       "</div>"
      ],
      "text/plain": [
       "    Age  Gender Marital Status  Occupation  Monthly Income  \\\n",
       "37   32       0           None  House wife               0   \n",
       "\n",
       "    Educational Qualifications  Family size  latitude  longitude  Pin code  \\\n",
       "37                           2            5    12.982    77.6256    560008   \n",
       "\n",
       "    Output  Feedback is working    0    1    2    3  \n",
       "37       1         0          0  0.0  1.0  0.0  0.0  "
      ]
     },
     "execution_count": 26,
     "metadata": {},
     "output_type": "execute_result"
    }
   ],
   "source": [
    "data[data[\"Occupation\"] == \"House wife\"].head(1)"
   ]
  },
  {
   "cell_type": "code",
   "execution_count": 27,
   "id": "0038b4c8",
   "metadata": {
    "ExecuteTime": {
     "end_time": "2024-04-14T20:17:36.963759300Z",
     "start_time": "2024-04-14T20:17:36.612102500Z"
    },
    "collapsed": false,
    "execution": {
     "iopub.execute_input": "2024-04-14T20:47:39.162996Z",
     "iopub.status.busy": "2024-04-14T20:47:39.161983Z",
     "iopub.status.idle": "2024-04-14T20:47:39.184106Z",
     "shell.execute_reply": "2024-04-14T20:47:39.183245Z"
    },
    "jupyter": {
     "outputs_hidden": false
    },
    "papermill": {
     "duration": 0.048034,
     "end_time": "2024-04-14T20:47:39.186789",
     "exception": false,
     "start_time": "2024-04-14T20:47:39.138755",
     "status": "completed"
    },
    "tags": []
   },
   "outputs": [
    {
     "data": {
      "text/html": [
       "<div>\n",
       "<style scoped>\n",
       "    .dataframe tbody tr th:only-of-type {\n",
       "        vertical-align: middle;\n",
       "    }\n",
       "\n",
       "    .dataframe tbody tr th {\n",
       "        vertical-align: top;\n",
       "    }\n",
       "\n",
       "    .dataframe thead th {\n",
       "        text-align: right;\n",
       "    }\n",
       "</style>\n",
       "<table border=\"1\" class=\"dataframe\">\n",
       "  <thead>\n",
       "    <tr style=\"text-align: right;\">\n",
       "      <th></th>\n",
       "      <th>Age</th>\n",
       "      <th>Gender</th>\n",
       "      <th>Marital Status</th>\n",
       "      <th>Occupation</th>\n",
       "      <th>Monthly Income</th>\n",
       "      <th>Educational Qualifications</th>\n",
       "      <th>Family size</th>\n",
       "      <th>latitude</th>\n",
       "      <th>longitude</th>\n",
       "      <th>Pin code</th>\n",
       "      <th>Output</th>\n",
       "      <th>Feedback</th>\n",
       "      <th>is working</th>\n",
       "      <th>0</th>\n",
       "      <th>1</th>\n",
       "      <th>2</th>\n",
       "      <th>3</th>\n",
       "    </tr>\n",
       "  </thead>\n",
       "  <tbody>\n",
       "    <tr>\n",
       "      <th>5</th>\n",
       "      <td>27</td>\n",
       "      <td>0</td>\n",
       "      <td>1</td>\n",
       "      <td>Employee</td>\n",
       "      <td>50000</td>\n",
       "      <td>3</td>\n",
       "      <td>2</td>\n",
       "      <td>12.9299</td>\n",
       "      <td>77.6848</td>\n",
       "      <td>560103</td>\n",
       "      <td>1</td>\n",
       "      <td>1</td>\n",
       "      <td>1</td>\n",
       "      <td>1.0</td>\n",
       "      <td>0.0</td>\n",
       "      <td>0.0</td>\n",
       "      <td>0.0</td>\n",
       "    </tr>\n",
       "  </tbody>\n",
       "</table>\n",
       "</div>"
      ],
      "text/plain": [
       "   Age  Gender Marital Status Occupation  Monthly Income  \\\n",
       "5   27       0              1   Employee           50000   \n",
       "\n",
       "   Educational Qualifications  Family size  latitude  longitude  Pin code  \\\n",
       "5                           3            2   12.9299    77.6848    560103   \n",
       "\n",
       "   Output  Feedback is working    0    1    2    3  \n",
       "5       1         1          1  1.0  0.0  0.0  0.0  "
      ]
     },
     "execution_count": 27,
     "metadata": {},
     "output_type": "execute_result"
    }
   ],
   "source": [
    "data[data[\"Occupation\"] == \"Employee\"].head(1)"
   ]
  },
  {
   "cell_type": "code",
   "execution_count": 28,
   "id": "000de016",
   "metadata": {
    "ExecuteTime": {
     "end_time": "2024-04-14T20:17:36.963759300Z",
     "start_time": "2024-04-14T20:17:36.626409100Z"
    },
    "collapsed": false,
    "execution": {
     "iopub.execute_input": "2024-04-14T20:47:39.234998Z",
     "iopub.status.busy": "2024-04-14T20:47:39.234609Z",
     "iopub.status.idle": "2024-04-14T20:47:39.254374Z",
     "shell.execute_reply": "2024-04-14T20:47:39.253123Z"
    },
    "jupyter": {
     "outputs_hidden": false
    },
    "papermill": {
     "duration": 0.046501,
     "end_time": "2024-04-14T20:47:39.256769",
     "exception": false,
     "start_time": "2024-04-14T20:47:39.210268",
     "status": "completed"
    },
    "tags": []
   },
   "outputs": [
    {
     "data": {
      "text/html": [
       "<div>\n",
       "<style scoped>\n",
       "    .dataframe tbody tr th:only-of-type {\n",
       "        vertical-align: middle;\n",
       "    }\n",
       "\n",
       "    .dataframe tbody tr th {\n",
       "        vertical-align: top;\n",
       "    }\n",
       "\n",
       "    .dataframe thead th {\n",
       "        text-align: right;\n",
       "    }\n",
       "</style>\n",
       "<table border=\"1\" class=\"dataframe\">\n",
       "  <thead>\n",
       "    <tr style=\"text-align: right;\">\n",
       "      <th></th>\n",
       "      <th>Age</th>\n",
       "      <th>Gender</th>\n",
       "      <th>Marital Status</th>\n",
       "      <th>Occupation</th>\n",
       "      <th>Monthly Income</th>\n",
       "      <th>Educational Qualifications</th>\n",
       "      <th>Family size</th>\n",
       "      <th>latitude</th>\n",
       "      <th>longitude</th>\n",
       "      <th>Pin code</th>\n",
       "      <th>Output</th>\n",
       "      <th>Feedback</th>\n",
       "      <th>is working</th>\n",
       "      <th>0</th>\n",
       "      <th>1</th>\n",
       "      <th>2</th>\n",
       "      <th>3</th>\n",
       "    </tr>\n",
       "  </thead>\n",
       "  <tbody>\n",
       "    <tr>\n",
       "      <th>14</th>\n",
       "      <td>23</td>\n",
       "      <td>0</td>\n",
       "      <td>0</td>\n",
       "      <td>Self Employeed</td>\n",
       "      <td>17500</td>\n",
       "      <td>3</td>\n",
       "      <td>5</td>\n",
       "      <td>12.9438</td>\n",
       "      <td>77.5738</td>\n",
       "      <td>560004</td>\n",
       "      <td>1</td>\n",
       "      <td>1</td>\n",
       "      <td>1</td>\n",
       "      <td>0.0</td>\n",
       "      <td>0.0</td>\n",
       "      <td>1.0</td>\n",
       "      <td>0.0</td>\n",
       "    </tr>\n",
       "  </tbody>\n",
       "</table>\n",
       "</div>"
      ],
      "text/plain": [
       "    Age  Gender Marital Status      Occupation  Monthly Income  \\\n",
       "14   23       0              0  Self Employeed           17500   \n",
       "\n",
       "    Educational Qualifications  Family size  latitude  longitude  Pin code  \\\n",
       "14                           3            5   12.9438    77.5738    560004   \n",
       "\n",
       "    Output  Feedback is working    0    1    2    3  \n",
       "14       1         1          1  0.0  0.0  1.0  0.0  "
      ]
     },
     "execution_count": 28,
     "metadata": {},
     "output_type": "execute_result"
    }
   ],
   "source": [
    "data[data[\"Occupation\"] == \"Self Employeed\"].head(1)"
   ]
  },
  {
   "cell_type": "code",
   "execution_count": 29,
   "id": "26f4d323",
   "metadata": {
    "ExecuteTime": {
     "end_time": "2024-04-14T20:17:36.963759300Z",
     "start_time": "2024-04-14T20:17:36.640634800Z"
    },
    "collapsed": false,
    "execution": {
     "iopub.execute_input": "2024-04-14T20:47:39.305520Z",
     "iopub.status.busy": "2024-04-14T20:47:39.305099Z",
     "iopub.status.idle": "2024-04-14T20:47:39.311626Z",
     "shell.execute_reply": "2024-04-14T20:47:39.310333Z"
    },
    "jupyter": {
     "outputs_hidden": false
    },
    "papermill": {
     "duration": 0.03458,
     "end_time": "2024-04-14T20:47:39.314207",
     "exception": false,
     "start_time": "2024-04-14T20:47:39.279627",
     "status": "completed"
    },
    "tags": []
   },
   "outputs": [],
   "source": [
    "data.rename(columns={\n",
    "                     1:\"is House wife\",\n",
    "                     0:\"is Employee\",\n",
    "                     2:\"is Self Employeed\",\n",
    "                     3:\"is Student\"} ,inplace=True)"
   ]
  },
  {
   "cell_type": "code",
   "execution_count": 30,
   "id": "53c94e40",
   "metadata": {
    "ExecuteTime": {
     "end_time": "2024-04-14T20:17:36.963759300Z",
     "start_time": "2024-04-14T20:17:36.649216200Z"
    },
    "collapsed": false,
    "execution": {
     "iopub.execute_input": "2024-04-14T20:47:39.362377Z",
     "iopub.status.busy": "2024-04-14T20:47:39.361871Z",
     "iopub.status.idle": "2024-04-14T20:47:39.384571Z",
     "shell.execute_reply": "2024-04-14T20:47:39.383778Z"
    },
    "jupyter": {
     "outputs_hidden": false
    },
    "papermill": {
     "duration": 0.049719,
     "end_time": "2024-04-14T20:47:39.386625",
     "exception": false,
     "start_time": "2024-04-14T20:47:39.336906",
     "status": "completed"
    },
    "tags": []
   },
   "outputs": [
    {
     "data": {
      "text/html": [
       "<div>\n",
       "<style scoped>\n",
       "    .dataframe tbody tr th:only-of-type {\n",
       "        vertical-align: middle;\n",
       "    }\n",
       "\n",
       "    .dataframe tbody tr th {\n",
       "        vertical-align: top;\n",
       "    }\n",
       "\n",
       "    .dataframe thead th {\n",
       "        text-align: right;\n",
       "    }\n",
       "</style>\n",
       "<table border=\"1\" class=\"dataframe\">\n",
       "  <thead>\n",
       "    <tr style=\"text-align: right;\">\n",
       "      <th></th>\n",
       "      <th>Age</th>\n",
       "      <th>Gender</th>\n",
       "      <th>Marital Status</th>\n",
       "      <th>Occupation</th>\n",
       "      <th>Monthly Income</th>\n",
       "      <th>Educational Qualifications</th>\n",
       "      <th>Family size</th>\n",
       "      <th>latitude</th>\n",
       "      <th>longitude</th>\n",
       "      <th>Pin code</th>\n",
       "      <th>Output</th>\n",
       "      <th>Feedback</th>\n",
       "      <th>is working</th>\n",
       "      <th>is Employee</th>\n",
       "      <th>is House wife</th>\n",
       "      <th>is Self Employeed</th>\n",
       "      <th>is Student</th>\n",
       "    </tr>\n",
       "  </thead>\n",
       "  <tbody>\n",
       "    <tr>\n",
       "      <th>0</th>\n",
       "      <td>20</td>\n",
       "      <td>0</td>\n",
       "      <td>0</td>\n",
       "      <td>Student</td>\n",
       "      <td>0</td>\n",
       "      <td>3</td>\n",
       "      <td>4</td>\n",
       "      <td>12.9766</td>\n",
       "      <td>77.5993</td>\n",
       "      <td>560001</td>\n",
       "      <td>1</td>\n",
       "      <td>1</td>\n",
       "      <td>0</td>\n",
       "      <td>0.0</td>\n",
       "      <td>0.0</td>\n",
       "      <td>0.0</td>\n",
       "      <td>1.0</td>\n",
       "    </tr>\n",
       "    <tr>\n",
       "      <th>1</th>\n",
       "      <td>24</td>\n",
       "      <td>0</td>\n",
       "      <td>0</td>\n",
       "      <td>Student</td>\n",
       "      <td>5000</td>\n",
       "      <td>2</td>\n",
       "      <td>3</td>\n",
       "      <td>12.9770</td>\n",
       "      <td>77.5773</td>\n",
       "      <td>560009</td>\n",
       "      <td>1</td>\n",
       "      <td>1</td>\n",
       "      <td>0</td>\n",
       "      <td>0.0</td>\n",
       "      <td>0.0</td>\n",
       "      <td>0.0</td>\n",
       "      <td>1.0</td>\n",
       "    </tr>\n",
       "    <tr>\n",
       "      <th>2</th>\n",
       "      <td>22</td>\n",
       "      <td>1</td>\n",
       "      <td>0</td>\n",
       "      <td>Student</td>\n",
       "      <td>5000</td>\n",
       "      <td>3</td>\n",
       "      <td>3</td>\n",
       "      <td>12.9551</td>\n",
       "      <td>77.6593</td>\n",
       "      <td>560017</td>\n",
       "      <td>1</td>\n",
       "      <td>0</td>\n",
       "      <td>0</td>\n",
       "      <td>0.0</td>\n",
       "      <td>0.0</td>\n",
       "      <td>0.0</td>\n",
       "      <td>1.0</td>\n",
       "    </tr>\n",
       "    <tr>\n",
       "      <th>3</th>\n",
       "      <td>22</td>\n",
       "      <td>0</td>\n",
       "      <td>0</td>\n",
       "      <td>Student</td>\n",
       "      <td>0</td>\n",
       "      <td>2</td>\n",
       "      <td>6</td>\n",
       "      <td>12.9473</td>\n",
       "      <td>77.5616</td>\n",
       "      <td>560019</td>\n",
       "      <td>1</td>\n",
       "      <td>1</td>\n",
       "      <td>0</td>\n",
       "      <td>0.0</td>\n",
       "      <td>0.0</td>\n",
       "      <td>0.0</td>\n",
       "      <td>1.0</td>\n",
       "    </tr>\n",
       "    <tr>\n",
       "      <th>4</th>\n",
       "      <td>22</td>\n",
       "      <td>1</td>\n",
       "      <td>0</td>\n",
       "      <td>Student</td>\n",
       "      <td>5000</td>\n",
       "      <td>3</td>\n",
       "      <td>4</td>\n",
       "      <td>12.9850</td>\n",
       "      <td>77.5533</td>\n",
       "      <td>560010</td>\n",
       "      <td>1</td>\n",
       "      <td>1</td>\n",
       "      <td>0</td>\n",
       "      <td>0.0</td>\n",
       "      <td>0.0</td>\n",
       "      <td>0.0</td>\n",
       "      <td>1.0</td>\n",
       "    </tr>\n",
       "  </tbody>\n",
       "</table>\n",
       "</div>"
      ],
      "text/plain": [
       "   Age  Gender Marital Status Occupation  Monthly Income  \\\n",
       "0   20       0              0    Student               0   \n",
       "1   24       0              0    Student            5000   \n",
       "2   22       1              0    Student            5000   \n",
       "3   22       0              0    Student               0   \n",
       "4   22       1              0    Student            5000   \n",
       "\n",
       "   Educational Qualifications  Family size  latitude  longitude  Pin code  \\\n",
       "0                           3            4   12.9766    77.5993    560001   \n",
       "1                           2            3   12.9770    77.5773    560009   \n",
       "2                           3            3   12.9551    77.6593    560017   \n",
       "3                           2            6   12.9473    77.5616    560019   \n",
       "4                           3            4   12.9850    77.5533    560010   \n",
       "\n",
       "   Output  Feedback is working  is Employee  is House wife  is Self Employeed  \\\n",
       "0       1         1          0          0.0            0.0                0.0   \n",
       "1       1         1          0          0.0            0.0                0.0   \n",
       "2       1         0          0          0.0            0.0                0.0   \n",
       "3       1         1          0          0.0            0.0                0.0   \n",
       "4       1         1          0          0.0            0.0                0.0   \n",
       "\n",
       "   is Student  \n",
       "0         1.0  \n",
       "1         1.0  \n",
       "2         1.0  \n",
       "3         1.0  \n",
       "4         1.0  "
      ]
     },
     "execution_count": 30,
     "metadata": {},
     "output_type": "execute_result"
    }
   ],
   "source": [
    "data.head()"
   ]
  },
  {
   "cell_type": "code",
   "execution_count": 31,
   "id": "8da3453e",
   "metadata": {
    "ExecuteTime": {
     "end_time": "2024-04-14T20:17:36.963759300Z",
     "start_time": "2024-04-14T20:17:36.665036500Z"
    },
    "collapsed": false,
    "execution": {
     "iopub.execute_input": "2024-04-14T20:47:39.434209Z",
     "iopub.status.busy": "2024-04-14T20:47:39.433806Z",
     "iopub.status.idle": "2024-04-14T20:47:39.440521Z",
     "shell.execute_reply": "2024-04-14T20:47:39.439275Z"
    },
    "jupyter": {
     "outputs_hidden": false
    },
    "papermill": {
     "duration": 0.033435,
     "end_time": "2024-04-14T20:47:39.442895",
     "exception": false,
     "start_time": "2024-04-14T20:47:39.409460",
     "status": "completed"
    },
    "tags": []
   },
   "outputs": [],
   "source": [
    "data.drop(columns=[\"Occupation\"],inplace=True)"
   ]
  },
  {
   "cell_type": "code",
   "execution_count": 32,
   "id": "d565d51c",
   "metadata": {
    "ExecuteTime": {
     "end_time": "2024-04-14T20:40:34.596637100Z",
     "start_time": "2024-04-14T20:40:33.981138900Z"
    },
    "collapsed": false,
    "execution": {
     "iopub.execute_input": "2024-04-14T20:47:39.491439Z",
     "iopub.status.busy": "2024-04-14T20:47:39.490987Z",
     "iopub.status.idle": "2024-04-14T20:47:40.556060Z",
     "shell.execute_reply": "2024-04-14T20:47:40.554464Z"
    },
    "jupyter": {
     "outputs_hidden": false
    },
    "papermill": {
     "duration": 1.093402,
     "end_time": "2024-04-14T20:47:40.559424",
     "exception": false,
     "start_time": "2024-04-14T20:47:39.466022",
     "status": "completed"
    },
    "tags": []
   },
   "outputs": [
    {
     "data": {
      "image/png": "[encoded data removed]",
      "text/plain": [
       "<Figure size 640x480 with 2 Axes>"
      ]
     },
     "metadata": {},
     "output_type": "display_data"
    },
    {
     "data": {
      "text/plain": [
       "<Figure size 1000x800 with 0 Axes>"
      ]
     },
     "metadata": {},
     "output_type": "display_data"
    }
   ],
   "source": [
    "import matplotlib.pyplot as plt\n",
    "from seaborn import heatmap\n",
    "heatmap(data.corr(),annot=False)\n",
    "plt.figure(figsize=(10,8))\n",
    "plt.show()"
   ]
  },
  {
   "cell_type": "code",
   "execution_count": 33,
   "id": "06f17cce",
   "metadata": {
    "ExecuteTime": {
     "end_time": "2024-04-14T20:17:37.493924600Z",
     "start_time": "2024-04-14T20:17:37.185027Z"
    },
    "collapsed": false,
    "execution": {
     "iopub.execute_input": "2024-04-14T20:47:40.619662Z",
     "iopub.status.busy": "2024-04-14T20:47:40.618704Z",
     "iopub.status.idle": "2024-04-14T20:47:40.630276Z",
     "shell.execute_reply": "2024-04-14T20:47:40.629189Z"
    },
    "jupyter": {
     "outputs_hidden": false
    },
    "papermill": {
     "duration": 0.048621,
     "end_time": "2024-04-14T20:47:40.632827",
     "exception": false,
     "start_time": "2024-04-14T20:47:40.584206",
     "status": "completed"
    },
    "tags": []
   },
   "outputs": [
    {
     "data": {
      "text/plain": [
       "Age                            0\n",
       "Gender                         0\n",
       "Marital Status                12\n",
       "Monthly Income                 0\n",
       "Educational Qualifications     0\n",
       "Family size                    0\n",
       "latitude                       0\n",
       "longitude                      0\n",
       "Pin code                       0\n",
       "Output                         0\n",
       "Feedback                       0\n",
       "is working                     0\n",
       "is Employee                    0\n",
       "is House wife                  0\n",
       "is Self Employeed              0\n",
       "is Student                     0\n",
       "dtype: int64"
      ]
     },
     "execution_count": 33,
     "metadata": {},
     "output_type": "execute_result"
    }
   ],
   "source": [
    "data.isna().sum()"
   ]
  },
  {
   "cell_type": "code",
   "execution_count": 34,
   "id": "73207cd3",
   "metadata": {
    "ExecuteTime": {
     "end_time": "2024-04-14T20:18:12.609239100Z",
     "start_time": "2024-04-14T20:18:12.561623300Z"
    },
    "collapsed": false,
    "execution": {
     "iopub.execute_input": "2024-04-14T20:47:40.685088Z",
     "iopub.status.busy": "2024-04-14T20:47:40.684344Z",
     "iopub.status.idle": "2024-04-14T20:47:40.693789Z",
     "shell.execute_reply": "2024-04-14T20:47:40.691678Z"
    },
    "jupyter": {
     "outputs_hidden": false
    },
    "papermill": {
     "duration": 0.040555,
     "end_time": "2024-04-14T20:47:40.697871",
     "exception": false,
     "start_time": "2024-04-14T20:47:40.657316",
     "status": "completed"
    },
    "tags": []
   },
   "outputs": [
    {
     "name": "stderr",
     "output_type": "stream",
     "text": [
      "/tmp/ipykernel_18/1652021365.py:1: FutureWarning: A value is trying to be set on a copy of a DataFrame or Series through chained assignment using an inplace method.\n",
      "The behavior will change in pandas 3.0. This inplace method will never work because the intermediate object on which we are setting values always behaves as a copy.\n",
      "\n",
      "For example, when doing 'df[col].method(value, inplace=True)', try using 'df.method({col: value}, inplace=True)' or df[col] = df[col].method(value) instead, to perform the operation inplace on the original object.\n",
      "\n",
      "\n",
      "  data['Marital Status'].fillna(random.randint(0,1),inplace=True)\n",
      "/tmp/ipykernel_18/1652021365.py:1: FutureWarning: Downcasting object dtype arrays on .fillna, .ffill, .bfill is deprecated and will change in a future version. Call result.infer_objects(copy=False) instead. To opt-in to the future behavior, set `pd.set_option('future.no_silent_downcasting', True)`\n",
      "  data['Marital Status'].fillna(random.randint(0,1),inplace=True)\n"
     ]
    }
   ],
   "source": [
    "data['Marital Status'].fillna(random.randint(0,1),inplace=True)"
   ]
  },
  {
   "cell_type": "code",
   "execution_count": 35,
   "id": "6616fb17",
   "metadata": {
    "ExecuteTime": {
     "end_time": "2024-04-14T20:18:30.845596800Z",
     "start_time": "2024-04-14T20:18:30.829345500Z"
    },
    "collapsed": false,
    "execution": {
     "iopub.execute_input": "2024-04-14T20:47:40.768184Z",
     "iopub.status.busy": "2024-04-14T20:47:40.765608Z",
     "iopub.status.idle": "2024-04-14T20:47:40.775790Z",
     "shell.execute_reply": "2024-04-14T20:47:40.774693Z"
    },
    "jupyter": {
     "outputs_hidden": false
    },
    "papermill": {
     "duration": 0.045586,
     "end_time": "2024-04-14T20:47:40.778131",
     "exception": false,
     "start_time": "2024-04-14T20:47:40.732545",
     "status": "completed"
    },
    "tags": []
   },
   "outputs": [
    {
     "data": {
      "text/plain": [
       "0"
      ]
     },
     "execution_count": 35,
     "metadata": {},
     "output_type": "execute_result"
    }
   ],
   "source": [
    "data[\"Marital Status\"].isna().sum()"
   ]
  },
  {
   "cell_type": "code",
   "execution_count": 36,
   "id": "320c135d",
   "metadata": {
    "ExecuteTime": {
     "end_time": "2024-04-14T20:20:32.015649200Z",
     "start_time": "2024-04-14T20:20:31.984425600Z"
    },
    "collapsed": false,
    "execution": {
     "iopub.execute_input": "2024-04-14T20:47:40.839824Z",
     "iopub.status.busy": "2024-04-14T20:47:40.838825Z",
     "iopub.status.idle": "2024-04-14T20:47:40.847137Z",
     "shell.execute_reply": "2024-04-14T20:47:40.845996Z"
    },
    "jupyter": {
     "outputs_hidden": false
    },
    "papermill": {
     "duration": 0.046088,
     "end_time": "2024-04-14T20:47:40.849667",
     "exception": false,
     "start_time": "2024-04-14T20:47:40.803579",
     "status": "completed"
    },
    "tags": []
   },
   "outputs": [],
   "source": [
    "X= data.drop(columns=[\"Output\"])\n",
    "y= data[\"Output\"]"
   ]
  },
  {
   "cell_type": "code",
   "execution_count": 37,
   "id": "bd8e6feb",
   "metadata": {
    "ExecuteTime": {
     "end_time": "2024-04-14T20:34:51.219445300Z",
     "start_time": "2024-04-14T20:34:51.203588400Z"
    },
    "collapsed": false,
    "execution": {
     "iopub.execute_input": "2024-04-14T20:47:40.903044Z",
     "iopub.status.busy": "2024-04-14T20:47:40.901378Z",
     "iopub.status.idle": "2024-04-14T20:47:41.023077Z",
     "shell.execute_reply": "2024-04-14T20:47:41.021963Z"
    },
    "jupyter": {
     "outputs_hidden": false
    },
    "papermill": {
     "duration": 0.15202,
     "end_time": "2024-04-14T20:47:41.026369",
     "exception": false,
     "start_time": "2024-04-14T20:47:40.874349",
     "status": "completed"
    },
    "tags": []
   },
   "outputs": [],
   "source": [
    "from sklearn.model_selection import train_test_split\n",
    "X_train, X_test, y_train, y_test = train_test_split(X,y , test_size=0.12)"
   ]
  },
  {
   "cell_type": "raw",
   "id": "0c6482b8",
   "metadata": {
    "papermill": {
     "duration": 0.024129,
     "end_time": "2024-04-14T20:47:41.079028",
     "exception": false,
     "start_time": "2024-04-14T20:47:41.054899",
     "status": "completed"
    },
    "tags": []
   },
   "source": [
    "# Classification Algorithmns"
   ]
  },
  {
   "cell_type": "raw",
   "id": "7841dfd4",
   "metadata": {
    "papermill": {
     "duration": 0.024019,
     "end_time": "2024-04-14T20:47:41.130296",
     "exception": false,
     "start_time": "2024-04-14T20:47:41.106277",
     "status": "completed"
    },
    "tags": []
   },
   "source": [
    "## KNegibors classifier"
   ]
  },
  {
   "cell_type": "code",
   "execution_count": 38,
   "id": "a81f92d3",
   "metadata": {
    "ExecuteTime": {
     "end_time": "2024-04-14T20:34:51.803509700Z",
     "start_time": "2024-04-14T20:34:51.787384500Z"
    },
    "collapsed": false,
    "execution": {
     "iopub.execute_input": "2024-04-14T20:47:41.184064Z",
     "iopub.status.busy": "2024-04-14T20:47:41.183050Z",
     "iopub.status.idle": "2024-04-14T20:47:41.368696Z",
     "shell.execute_reply": "2024-04-14T20:47:41.367452Z"
    },
    "jupyter": {
     "outputs_hidden": false
    },
    "papermill": {
     "duration": 0.217212,
     "end_time": "2024-04-14T20:47:41.371790",
     "exception": false,
     "start_time": "2024-04-14T20:47:41.154578",
     "status": "completed"
    },
    "tags": []
   },
   "outputs": [
    {
     "data": {
      "text/html": [
       "<style>#sk-container-id-1 {color: black;background-color: white;}#sk-container-id-1 pre{padding: 0;}#sk-container-id-1 div.sk-toggleable {background-color: white;}#sk-container-id-1 label.sk-toggleable__label {cursor: pointer;display: block;width: 100%;margin-bottom: 0;padding: 0.3em;box-sizing: border-box;text-align: center;}#sk-container-id-1 label.sk-toggleable__label-arrow:before {content: \"▸\";float: left;margin-right: 0.25em;color: #696969;}#sk-container-id-1 label.sk-toggleable__label-arrow:hover:before {color: black;}#sk-container-id-1 div.sk-estimator:hover label.sk-toggleable__label-arrow:before {color: black;}#sk-container-id-1 div.sk-toggleable__content {max-height: 0;max-width: 0;overflow: hidden;text-align: left;background-color: #f0f8ff;}#sk-container-id-1 div.sk-toggleable__content pre {margin: 0.2em;color: black;border-radius: 0.25em;background-color: #f0f8ff;}#sk-container-id-1 input.sk-toggleable__control:checked~div.sk-toggleable__content {max-height: 200px;max-width: 100%;overflow: auto;}#sk-container-id-1 input.sk-toggleable__control:checked~label.sk-toggleable__label-arrow:before {content: \"▾\";}#sk-container-id-1 div.sk-estimator input.sk-toggleable__control:checked~label.sk-toggleable__label {background-color: #d4ebff;}#sk-container-id-1 div.sk-label input.sk-toggleable__control:checked~label.sk-toggleable__label {background-color: #d4ebff;}#sk-container-id-1 input.sk-hidden--visually {border: 0;clip: rect(1px 1px 1px 1px);clip: rect(1px, 1px, 1px, 1px);height: 1px;margin: -1px;overflow: hidden;padding: 0;position: absolute;width: 1px;}#sk-container-id-1 div.sk-estimator {font-family: monospace;background-color: #f0f8ff;border: 1px dotted black;border-radius: 0.25em;box-sizing: border-box;margin-bottom: 0.5em;}#sk-container-id-1 div.sk-estimator:hover {background-color: #d4ebff;}#sk-container-id-1 div.sk-parallel-item::after {content: \"\";width: 100%;border-bottom: 1px solid gray;flex-grow: 1;}#sk-container-id-1 div.sk-label:hover label.sk-toggleable__label {background-color: #d4ebff;}#sk-container-id-1 div.sk-serial::before {content: \"\";position: absolute;border-left: 1px solid gray;box-sizing: border-box;top: 0;bottom: 0;left: 50%;z-index: 0;}#sk-container-id-1 div.sk-serial {display: flex;flex-direction: column;align-items: center;background-color: white;padding-right: 0.2em;padding-left: 0.2em;position: relative;}#sk-container-id-1 div.sk-item {position: relative;z-index: 1;}#sk-container-id-1 div.sk-parallel {display: flex;align-items: stretch;justify-content: center;background-color: white;position: relative;}#sk-container-id-1 div.sk-item::before, #sk-container-id-1 div.sk-parallel-item::before {content: \"\";position: absolute;border-left: 1px solid gray;box-sizing: border-box;top: 0;bottom: 0;left: 50%;z-index: -1;}#sk-container-id-1 div.sk-parallel-item {display: flex;flex-direction: column;z-index: 1;position: relative;background-color: white;}#sk-container-id-1 div.sk-parallel-item:first-child::after {align-self: flex-end;width: 50%;}#sk-container-id-1 div.sk-parallel-item:last-child::after {align-self: flex-start;width: 50%;}#sk-container-id-1 div.sk-parallel-item:only-child::after {width: 0;}#sk-container-id-1 div.sk-dashed-wrapped {border: 1px dashed gray;margin: 0 0.4em 0.5em 0.4em;box-sizing: border-box;padding-bottom: 0.4em;background-color: white;}#sk-container-id-1 div.sk-label label {font-family: monospace;font-weight: bold;display: inline-block;line-height: 1.2em;}#sk-container-id-1 div.sk-label-container {text-align: center;}#sk-container-id-1 div.sk-container {/* jupyter's `normalize.less` sets `[hidden] { display: none; }` but bootstrap.min.css set `[hidden] { display: none !important; }` so we also need the `!important` here to be able to override the default hidden behavior on the sphinx rendered scikit-learn.org. See: https://github.com/scikit-learn/scikit-learn/issues/21755 */display: inline-block !important;position: relative;}#sk-container-id-1 div.sk-text-repr-fallback {display: none;}</style><div id=\"sk-container-id-1\" class=\"sk-top-container\"><div class=\"sk-text-repr-fallback\"><pre>KNeighborsClassifier()</pre><b>In a Jupyter environment, please rerun this cell to show the HTML representation or trust the notebook. <br />On GitHub, the HTML representation is unable to render, please try loading this page with nbviewer.org.</b></div><div class=\"sk-container\" hidden><div class=\"sk-item\"><div class=\"sk-estimator sk-toggleable\"><input class=\"sk-toggleable__control sk-hidden--visually\" id=\"sk-estimator-id-1\" type=\"checkbox\" checked><label for=\"sk-estimator-id-1\" class=\"sk-toggleable__label sk-toggleable__label-arrow\">KNeighborsClassifier</label><div class=\"sk-toggleable__content\"><pre>KNeighborsClassifier()</pre></div></div></div></div></div>"
      ],
      "text/plain": [
       "KNeighborsClassifier()"
      ]
     },
     "execution_count": 38,
     "metadata": {},
     "output_type": "execute_result"
    }
   ],
   "source": [
    "from sklearn.neighbors import KNeighborsClassifier\n",
    "knn = KNeighborsClassifier()\n",
    "knn.fit(X_train, y_train)"
   ]
  },
  {
   "cell_type": "code",
   "execution_count": 39,
   "id": "5db75602",
   "metadata": {
    "ExecuteTime": {
     "end_time": "2024-04-14T20:34:52.047448800Z",
     "start_time": "2024-04-14T20:34:52.000527300Z"
    },
    "collapsed": false,
    "execution": {
     "iopub.execute_input": "2024-04-14T20:47:41.432549Z",
     "iopub.status.busy": "2024-04-14T20:47:41.431564Z",
     "iopub.status.idle": "2024-04-14T20:47:41.472765Z",
     "shell.execute_reply": "2024-04-14T20:47:41.471540Z"
    },
    "jupyter": {
     "outputs_hidden": false
    },
    "papermill": {
     "duration": 0.071187,
     "end_time": "2024-04-14T20:47:41.475877",
     "exception": false,
     "start_time": "2024-04-14T20:47:41.404690",
     "status": "completed"
    },
    "tags": []
   },
   "outputs": [
    {
     "data": {
      "text/plain": [
       "0.8504398826979472"
      ]
     },
     "execution_count": 39,
     "metadata": {},
     "output_type": "execute_result"
    }
   ],
   "source": [
    "knn.score(X_train,y_train)"
   ]
  },
  {
   "cell_type": "code",
   "execution_count": 40,
   "id": "177b7a43",
   "metadata": {
    "ExecuteTime": {
     "end_time": "2024-04-14T20:34:54.622106800Z",
     "start_time": "2024-04-14T20:34:54.598568500Z"
    },
    "collapsed": false,
    "execution": {
     "iopub.execute_input": "2024-04-14T20:47:41.528957Z",
     "iopub.status.busy": "2024-04-14T20:47:41.528527Z",
     "iopub.status.idle": "2024-04-14T20:47:41.546307Z",
     "shell.execute_reply": "2024-04-14T20:47:41.544991Z"
    },
    "jupyter": {
     "outputs_hidden": false
    },
    "papermill": {
     "duration": 0.047218,
     "end_time": "2024-04-14T20:47:41.548825",
     "exception": false,
     "start_time": "2024-04-14T20:47:41.501607",
     "status": "completed"
    },
    "tags": []
   },
   "outputs": [
    {
     "data": {
      "text/plain": [
       "0.6808510638297872"
      ]
     },
     "execution_count": 40,
     "metadata": {},
     "output_type": "execute_result"
    }
   ],
   "source": [
    "knn.score(X_test,y_test)"
   ]
  },
  {
   "cell_type": "raw",
   "id": "eb103ce1",
   "metadata": {
    "papermill": {
     "duration": 0.025612,
     "end_time": "2024-04-14T20:47:41.600174",
     "exception": false,
     "start_time": "2024-04-14T20:47:41.574562",
     "status": "completed"
    },
    "tags": []
   },
   "source": [
    "## SVM Classifier"
   ]
  },
  {
   "cell_type": "code",
   "execution_count": 41,
   "id": "9288db8f",
   "metadata": {
    "ExecuteTime": {
     "end_time": "2024-04-14T20:35:21.045229500Z",
     "start_time": "2024-04-14T20:35:21.029574700Z"
    },
    "collapsed": false,
    "execution": {
     "iopub.execute_input": "2024-04-14T20:47:41.654278Z",
     "iopub.status.busy": "2024-04-14T20:47:41.653520Z",
     "iopub.status.idle": "2024-04-14T20:47:41.675197Z",
     "shell.execute_reply": "2024-04-14T20:47:41.673797Z"
    },
    "jupyter": {
     "outputs_hidden": false
    },
    "papermill": {
     "duration": 0.052301,
     "end_time": "2024-04-14T20:47:41.678062",
     "exception": false,
     "start_time": "2024-04-14T20:47:41.625761",
     "status": "completed"
    },
    "tags": []
   },
   "outputs": [
    {
     "data": {
      "text/html": [
       "<style>#sk-container-id-2 {color: black;background-color: white;}#sk-container-id-2 pre{padding: 0;}#sk-container-id-2 div.sk-toggleable {background-color: white;}#sk-container-id-2 label.sk-toggleable__label {cursor: pointer;display: block;width: 100%;margin-bottom: 0;padding: 0.3em;box-sizing: border-box;text-align: center;}#sk-container-id-2 label.sk-toggleable__label-arrow:before {content: \"▸\";float: left;margin-right: 0.25em;color: #696969;}#sk-container-id-2 label.sk-toggleable__label-arrow:hover:before {color: black;}#sk-container-id-2 div.sk-estimator:hover label.sk-toggleable__label-arrow:before {color: black;}#sk-container-id-2 div.sk-toggleable__content {max-height: 0;max-width: 0;overflow: hidden;text-align: left;background-color: #f0f8ff;}#sk-container-id-2 div.sk-toggleable__content pre {margin: 0.2em;color: black;border-radius: 0.25em;background-color: #f0f8ff;}#sk-container-id-2 input.sk-toggleable__control:checked~div.sk-toggleable__content {max-height: 200px;max-width: 100%;overflow: auto;}#sk-container-id-2 input.sk-toggleable__control:checked~label.sk-toggleable__label-arrow:before {content: \"▾\";}#sk-container-id-2 div.sk-estimator input.sk-toggleable__control:checked~label.sk-toggleable__label {background-color: #d4ebff;}#sk-container-id-2 div.sk-label input.sk-toggleable__control:checked~label.sk-toggleable__label {background-color: #d4ebff;}#sk-container-id-2 input.sk-hidden--visually {border: 0;clip: rect(1px 1px 1px 1px);clip: rect(1px, 1px, 1px, 1px);height: 1px;margin: -1px;overflow: hidden;padding: 0;position: absolute;width: 1px;}#sk-container-id-2 div.sk-estimator {font-family: monospace;background-color: #f0f8ff;border: 1px dotted black;border-radius: 0.25em;box-sizing: border-box;margin-bottom: 0.5em;}#sk-container-id-2 div.sk-estimator:hover {background-color: #d4ebff;}#sk-container-id-2 div.sk-parallel-item::after {content: \"\";width: 100%;border-bottom: 1px solid gray;flex-grow: 1;}#sk-container-id-2 div.sk-label:hover label.sk-toggleable__label {background-color: #d4ebff;}#sk-container-id-2 div.sk-serial::before {content: \"\";position: absolute;border-left: 1px solid gray;box-sizing: border-box;top: 0;bottom: 0;left: 50%;z-index: 0;}#sk-container-id-2 div.sk-serial {display: flex;flex-direction: column;align-items: center;background-color: white;padding-right: 0.2em;padding-left: 0.2em;position: relative;}#sk-container-id-2 div.sk-item {position: relative;z-index: 1;}#sk-container-id-2 div.sk-parallel {display: flex;align-items: stretch;justify-content: center;background-color: white;position: relative;}#sk-container-id-2 div.sk-item::before, #sk-container-id-2 div.sk-parallel-item::before {content: \"\";position: absolute;border-left: 1px solid gray;box-sizing: border-box;top: 0;bottom: 0;left: 50%;z-index: -1;}#sk-container-id-2 div.sk-parallel-item {display: flex;flex-direction: column;z-index: 1;position: relative;background-color: white;}#sk-container-id-2 div.sk-parallel-item:first-child::after {align-self: flex-end;width: 50%;}#sk-container-id-2 div.sk-parallel-item:last-child::after {align-self: flex-start;width: 50%;}#sk-container-id-2 div.sk-parallel-item:only-child::after {width: 0;}#sk-container-id-2 div.sk-dashed-wrapped {border: 1px dashed gray;margin: 0 0.4em 0.5em 0.4em;box-sizing: border-box;padding-bottom: 0.4em;background-color: white;}#sk-container-id-2 div.sk-label label {font-family: monospace;font-weight: bold;display: inline-block;line-height: 1.2em;}#sk-container-id-2 div.sk-label-container {text-align: center;}#sk-container-id-2 div.sk-container {/* jupyter's `normalize.less` sets `[hidden] { display: none; }` but bootstrap.min.css set `[hidden] { display: none !important; }` so we also need the `!important` here to be able to override the default hidden behavior on the sphinx rendered scikit-learn.org. See: https://github.com/scikit-learn/scikit-learn/issues/21755 */display: inline-block !important;position: relative;}#sk-container-id-2 div.sk-text-repr-fallback {display: none;}</style><div id=\"sk-container-id-2\" class=\"sk-top-container\"><div class=\"sk-text-repr-fallback\"><pre>SVC()</pre><b>In a Jupyter environment, please rerun this cell to show the HTML representation or trust the notebook. <br />On GitHub, the HTML representation is unable to render, please try loading this page with nbviewer.org.</b></div><div class=\"sk-container\" hidden><div class=\"sk-item\"><div class=\"sk-estimator sk-toggleable\"><input class=\"sk-toggleable__control sk-hidden--visually\" id=\"sk-estimator-id-2\" type=\"checkbox\" checked><label for=\"sk-estimator-id-2\" class=\"sk-toggleable__label sk-toggleable__label-arrow\">SVC</label><div class=\"sk-toggleable__content\"><pre>SVC()</pre></div></div></div></div></div>"
      ],
      "text/plain": [
       "SVC()"
      ]
     },
     "execution_count": 41,
     "metadata": {},
     "output_type": "execute_result"
    }
   ],
   "source": [
    "from sklearn.svm import SVC\n",
    "svm = SVC()\n",
    "svm.fit(X_train, y_train)"
   ]
  },
  {
   "cell_type": "code",
   "execution_count": 42,
   "id": "5a5408a7",
   "metadata": {
    "ExecuteTime": {
     "end_time": "2024-04-14T20:35:21.309135800Z",
     "start_time": "2024-04-14T20:35:21.284927900Z"
    },
    "collapsed": false,
    "execution": {
     "iopub.execute_input": "2024-04-14T20:47:41.732059Z",
     "iopub.status.busy": "2024-04-14T20:47:41.731141Z",
     "iopub.status.idle": "2024-04-14T20:47:41.745975Z",
     "shell.execute_reply": "2024-04-14T20:47:41.744841Z"
    },
    "jupyter": {
     "outputs_hidden": false
    },
    "papermill": {
     "duration": 0.044595,
     "end_time": "2024-04-14T20:47:41.748372",
     "exception": false,
     "start_time": "2024-04-14T20:47:41.703777",
     "status": "completed"
    },
    "tags": []
   },
   "outputs": [
    {
     "data": {
      "text/plain": [
       "0.7888563049853372"
      ]
     },
     "execution_count": 42,
     "metadata": {},
     "output_type": "execute_result"
    }
   ],
   "source": [
    "svm.score(X_train,y_train)"
   ]
  },
  {
   "cell_type": "code",
   "execution_count": 43,
   "id": "cdf90ae9",
   "metadata": {
    "ExecuteTime": {
     "end_time": "2024-04-14T20:35:21.833077800Z",
     "start_time": "2024-04-14T20:35:21.801084700Z"
    },
    "collapsed": false,
    "execution": {
     "iopub.execute_input": "2024-04-14T20:47:41.802533Z",
     "iopub.status.busy": "2024-04-14T20:47:41.801979Z",
     "iopub.status.idle": "2024-04-14T20:47:41.816617Z",
     "shell.execute_reply": "2024-04-14T20:47:41.815160Z"
    },
    "jupyter": {
     "outputs_hidden": false
    },
    "papermill": {
     "duration": 0.044776,
     "end_time": "2024-04-14T20:47:41.819129",
     "exception": false,
     "start_time": "2024-04-14T20:47:41.774353",
     "status": "completed"
    },
    "tags": []
   },
   "outputs": [
    {
     "data": {
      "text/plain": [
       "0.6808510638297872"
      ]
     },
     "execution_count": 43,
     "metadata": {},
     "output_type": "execute_result"
    }
   ],
   "source": [
    "svm.score(X_test,y_test)"
   ]
  }
 ],
 "metadata": {
  "kaggle": {
   "accelerator": "none",
   "dataSources": [
    {
     "datasetId": 4527983,
     "sourceId": 7745817,
     "sourceType": "datasetVersion"
    }
   ],
   "dockerImageVersionId": 30684,
   "isGpuEnabled": false,
   "isInternetEnabled": true,
   "language": "python",
   "sourceType": "notebook"
  },
  "kernelspec": {
   "display_name": "Python 3",
   "language": "python",
   "name": "python3"
  },
  "language_info": {
   "codemirror_mode": {
    "name": "ipython",
    "version": 3
   },
   "file_extension": ".py",
   "mimetype": "text/x-python",
   "name": "python",
   "nbconvert_exporter": "python",
   "pygments_lexer": "ipython3",
   "version": "3.10.13"
  },
  "papermill": {
   "default_parameters": {},
   "duration": 10.716465,
   "end_time": "2024-04-14T20:47:42.569313",
   "environment_variables": {},
   "exception": null,
   "input_path": "__notebook__.ipynb",
   "output_path": "__notebook__.ipynb",
   "parameters": {},
   "start_time": "2024-04-14T20:47:31.852848",
   "version": "2.5.0"
  }
 },
 "nbformat": 4,
 "nbformat_minor": 5
}
